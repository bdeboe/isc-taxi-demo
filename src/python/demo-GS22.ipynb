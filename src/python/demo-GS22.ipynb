{
 "cells": [
  {
   "cell_type": "markdown",
   "id": "1076b31c",
   "metadata": {},
   "source": [
    "# Yet Another NY Taxi demo\n",
    "\n",
    "In this notebook, we'll set up a connection to IRIS and walk through a few exciting query results showcasing advances in IRIS SQL throughout 2022.1 and 2022.2. First, we're using IRIS DB-API to set up a connection to IRIS."
   ]
  },
  {
   "cell_type": "code",
   "execution_count": 1,
   "id": "104a1505",
   "metadata": {},
   "outputs": [],
   "source": [
    "import iris, time\n",
    "import pandas as pd\n",
    "import numpy as np\n",
    "import matplotlib.pyplot as plt\n",
    "\n",
    "connection = iris.connect(\"localhost:51777/NYTAXI\", \"_SYSTEM\", \"SYS\")"
   ]
  },
  {
   "cell_type": "markdown",
   "id": "06b3b6e1",
   "metadata": {},
   "source": [
    "The following utility paragraph just suppresses usage warnings for pandas preferring SQLAlchemy over DB-API "
   ]
  },
  {
   "cell_type": "code",
   "execution_count": 2,
   "id": "9d738da0",
   "metadata": {},
   "outputs": [],
   "source": [
    "import warnings\n",
    "warnings.simplefilter(\"ignore\")"
   ]
  },
  {
   "cell_type": "markdown",
   "id": "12638724",
   "metadata": {},
   "source": [
    "Now we'll set up a few utility functions we'll be using throughout the demo"
   ]
  },
  {
   "cell_type": "code",
   "execution_count": 3,
   "id": "90b5bbfc",
   "metadata": {},
   "outputs": [],
   "source": [
    "# utility vars and function to compare metrics\n",
    "last_time = 0\n",
    "last_grefs = 0\n",
    "plans = []\n",
    "\n",
    "def reset_compare():\n",
    "    global last_time, last_grefs\n",
    "    last_time = 0\n",
    "    last_grefs = 0\n",
    "\n",
    "def brag(prev, new, speed=True):\n",
    "    if ((prev == 0) or (new == 0) or (prev == new)):\n",
    "        return \"\"\n",
    "    if (prev > new):\n",
    "        rate = prev / new\n",
    "        if (rate > 2):\n",
    "            return \" - {:,.2f}x {}\".format(rate, \"faster\" if speed else \"less\")\n",
    "        else:\n",
    "            return \" - {:,.0%} {}\".format(rate-1, \"faster\" if speed else \"less\")\n",
    "    else:\n",
    "        rate = new / prev\n",
    "        if (rate > 2):\n",
    "            return \" - {:,.2f}x {}\".format(rate, \"slower\" if speed else \"more\")\n",
    "        else:\n",
    "            return \" - {:,.0%} {}\".format(rate-1, \"slower\" if speed else \"more\")\n",
    "\n",
    "def just_sql(sql):\n",
    "    c1 = connection.cursor()\n",
    "    c1.execute(sql)\n",
    "    result = c1.fetchall()[0][0]\n",
    "    c1.close()\n",
    "    return result  \n",
    "\n",
    "def query(sql, compare = True, dtypes = None):\n",
    "    global last_time, last_grefs, plans\n",
    "    \n",
    "    plans.append(just_sql(\"EXPLAIN \"+sql))\n",
    "    \n",
    "    start_grefs = just_sql(\"SELECT NYTaxi.GloRefs()\")\n",
    "    \n",
    "    start_time = time.time()\n",
    "    result = pd.read_sql_query(sql, connection, dtype = dtypes)\n",
    "    exec_time = time.time() - start_time\n",
    "    \n",
    "    exec_grefs = just_sql(\"SELECT NYTaxi.GloRefs()\") - start_grefs - 1\n",
    "    \n",
    "    if compare:\n",
    "        print(\"\\nExecution time: {:.3f}s \".format(exec_time) + brag(last_time, exec_time))\n",
    "        print(\"Global references: {:,} \".format(exec_grefs) + brag(last_grefs, exec_grefs, False))\n",
    "        last_time = exec_time\n",
    "        last_grefs = exec_grefs\n",
    "    else:\n",
    "        print(\"\\nExecution time: {:.3f}s\\nGlobal references: {:,}\".format(exec_time, exec_grefs))\n",
    "    \n",
    "    return result\n"
   ]
  },
  {
   "cell_type": "markdown",
   "id": "213b1cbb",
   "metadata": {},
   "source": [
    "## A first test to validate the connection"
   ]
  },
  {
   "cell_type": "code",
   "execution_count": 4,
   "id": "afa5cbbf",
   "metadata": {},
   "outputs": [
    {
     "name": "stdout",
     "output_type": "stream",
     "text": [
      "\n",
      "Execution time: 1.235s \n",
      "Global references: 1,248 \n"
     ]
    },
    {
     "data": {
      "image/png": "[encoded data removed]",
      "text/plain": [
       "<Figure size 432x288 with 1 Axes>"
      ]
     },
     "metadata": {
      "needs_background": "light"
     },
     "output_type": "display_data"
    }
   ],
   "source": [
    "r = query(\"SELECT passenger_count AS pg, COUNT(*) AS agg \"+\n",
    "          \"FROM NYTaxi.Rides \"+\n",
    "          \"GROUP BY passenger_count\")\n",
    "\n",
    "r.plot.barh(x='pg',y='agg',title=\"Rides by passenger count\");"
   ]
  },
  {
   "cell_type": "markdown",
   "id": "63cc1901",
   "metadata": {},
   "source": [
    "## Adaptive Mode in SQL\n",
    "\n",
    "Adaptive Mode includes RunTime PlanChoice, which we can disable for the sake of the demo by using `#NORUNTIME`"
   ]
  },
  {
   "cell_type": "code",
   "execution_count": 5,
   "id": "eead704d",
   "metadata": {},
   "outputs": [
    {
     "name": "stdout",
     "output_type": "stream",
     "text": [
      "\n",
      "Execution time: 21.771s \n",
      "Global references: 50,578,859 \n"
     ]
    }
   ],
   "source": [
    "reset_compare()\n",
    "r = query(\"SELECT %NORUNTIME AVG(total_amount) \"+\n",
    "             \"FROM NYTaxi.RowRides2 \"+\n",
    "             \"WHERE passenger_count > 2 \"+\n",
    "                   \"AND tpep_pickup_datetime BETWEEN '2020-01-01' AND '2020-12-31'\")"
   ]
  },
  {
   "cell_type": "markdown",
   "id": "1bf406e1",
   "metadata": {},
   "source": [
    "Luckily it's ON by default, so we can just leave out that hint and get great out-of-the-box performance."
   ]
  },
  {
   "cell_type": "code",
   "execution_count": 6,
   "id": "6c4c274b",
   "metadata": {},
   "outputs": [
    {
     "name": "stdout",
     "output_type": "stream",
     "text": [
      "\n",
      "Execution time: 2.018s  - 10.79x faster\n",
      "Global references: 2,490,971  - 20.30x less\n"
     ]
    }
   ],
   "source": [
    "r = query(\"SELECT AVG(total_amount) \"+\n",
    "             \"FROM NYTaxi.RowRides2 \"+\n",
    "             \"WHERE passenger_count > 2 \"+\n",
    "                   \"AND tpep_pickup_datetime BETWEEN '2020-01-01' AND '2020-12-31'\")"
   ]
  },
  {
   "cell_type": "markdown",
   "id": "9a00be2e",
   "metadata": {},
   "source": [
    "The above speedup is realized by making proper use of advanced statistics collected by IRIS in 2022.1. In this particular case, we're relying on histograms that capture how our field values are distributed across rows. The chart below shows this information for the `tpep_pickup_datetime` field. \n",
    "As you'll note, almost all of the data is in our requested date range, so using the index on this supposedly selective field is not very helpful for this set of runtime parameters."
   ]
  },
  {
   "cell_type": "code",
   "execution_count": 7,
   "id": "6dc45077",
   "metadata": {},
   "outputs": [
    {
     "name": "stdout",
     "output_type": "stream",
     "text": [
      "\n",
      "Execution time: 0.058s\n",
      "Global references: 37,799\n"
     ]
    },
    {
     "data": {
      "image/png": "[encoded data removed]",
      "text/plain": [
       "<Figure size 432x288 with 1 Axes>"
      ]
     },
     "metadata": {
      "needs_background": "light"
     },
     "output_type": "display_data"
    }
   ],
   "source": [
    "r = query(\"SELECT BUCKET_POSITION, PERCENTILE, VALUE, CAST((VALUE+0) AS POSIXTIME) AS DATE_VALUE \"+\n",
    "          \"FROM INFORMATION_SCHEMA.COLUMN_HISTOGRAMS \"+\n",
    "          \"WHERE TABLE_SCHEMA = 'NYTaxi' \"+\n",
    "                \"AND TABLE_NAME = 'RowRides2' \"+\n",
    "                \"AND COLUMN_NAME = 'tpep_pickup_datetime'\", False)\n",
    "plt.plot(r['VALUE'], r['PERCENTILE'])\n",
    "plt.xticks(ticks=[r['VALUE'].min(), r['VALUE'].max()], \n",
    "           labels=[r['DATE_VALUE'].min()[0:10], r['DATE_VALUE'].max()[0:10]])\n",
    "plt.show()"
   ]
  },
  {
   "cell_type": "markdown",
   "id": "3daef544",
   "metadata": {},
   "source": [
    "# Columnar Storage\n",
    "\n",
    "Now let's run the very same query again, now targeting the columnar version of our table. \n",
    "Note the different table name in the `FROM` clause."
   ]
  },
  {
   "cell_type": "code",
   "execution_count": 8,
   "id": "1cc1c91e",
   "metadata": {},
   "outputs": [
    {
     "name": "stdout",
     "output_type": "stream",
     "text": [
      "\n",
      "Execution time: 0.210s  - 9.61x faster\n",
      "Global references: 2,015  - 1,236.21x less\n"
     ]
    }
   ],
   "source": [
    "r = query(\"SELECT AVG(total_amount) \"+\n",
    "             \"FROM NYTaxi.Rides \"+\n",
    "             \"WHERE passenger_count > 2 \"+\n",
    "                   \"AND tpep_pickup_datetime BETWEEN '2020-01-01' AND '2020-12-31'\")"
   ]
  },
  {
   "cell_type": "code",
   "execution_count": 9,
   "id": "e0b6cbf3",
   "metadata": {},
   "outputs": [
    {
     "name": "stdout",
     "output_type": "stream",
     "text": [
      "<plans>\n",
      " <plan>\n",
      " <sql>\n",
      "  SELECT AVG(total_amount) FROM NYTaxi.Rides WHERE passenger_count > 2 AND tpep_pickup_datetime BETWEEN '2020-01-01' AND '2020-12-31' /*#OPTIONS {\"xDBCIsoLevel\":\"0\"} */\n",
      " </sql>\n",
      " <cost value=\"\"/>\n",
      " Call module C.\n",
      " From each parallel process:\n",
      "     Accumulate the count([value]).\n",
      "     Accumulate the sum([value]).\n",
      " <module name=\"C\" top=\"1\">\n",
      " Partition extent bitmap NYTaxi.Rides.%%DDLBEIndex, and in parallel, for each partition, looping on bitmap chunks.\n",
      " For each bitmap chunk:\n",
      "     Read columnar index NYTaxi.Rides._CDM_tpeppickupdatetime, using the given chunk number.\n",
      "     Apply vector and bitmap operations <=, >=, and & to produce a filter.\n",
      "     Read columnar index NYTaxi.Rides._CDM_passengercount, using the given chunk number.\n",
      "     Apply vector and bitmap operations >, &, defined, and & to produce a filter.\n",
      "     Read columnar index NYTaxi.Rides._CDM_totalamount, using the given chunk number.\n",
      "     Apply vector operations sum and count.\n",
      "     Accumulate the sum([value]).\n",
      "     Accumulate the count([value]).\n",
      " </module>\n",
      " </plan>\n",
      "</plans>\n"
     ]
    }
   ],
   "source": [
    "print(plans[-1])"
   ]
  },
  {
   "cell_type": "markdown",
   "id": "fd19e169",
   "metadata": {},
   "source": [
    "That was just to show off, now let's look at some more decent examples"
   ]
  },
  {
   "cell_type": "markdown",
   "id": "c354ecb1",
   "metadata": {},
   "source": [
    "This query shows how far along we got in teaching the IRIS SQL engine to work with columnar storage. There's groupings, aggregates, order by and an outer JOIN!"
   ]
  },
  {
   "cell_type": "code",
   "execution_count": 10,
   "id": "6e888854",
   "metadata": {},
   "outputs": [
    {
     "name": "stdout",
     "output_type": "stream",
     "text": [
      "\n",
      "Execution time: 11.106s \n",
      "Global references: 24,648,657 \n"
     ]
    },
    {
     "data": {
      "image/png": "[encoded data removed]",
      "text/plain": [
       "<Figure size 432x288 with 1 Axes>"
      ]
     },
     "metadata": {
      "needs_background": "light"
     },
     "output_type": "display_data"
    }
   ],
   "source": [
    "reset_compare()\n",
    "r = query(\"SELECT Zone, Borough, Tip FROM (\"+\n",
    "              \"SELECT TOP 10 PULocationID, AVG(tip_amount / fare_amount) AS Tip \"+\n",
    "              \"FROM NYTaxi.RowRides2 \"+\n",
    "              \"WHERE fare_amount > 0 \"+\n",
    "              \"GROUP BY PULocationID \"+\n",
    "              \"ORDER BY 2 DESC\"+\n",
    "          \") r LEFT JOIN NYTaxi.Zones z ON r.PULocationID = z.LocationID\", \n",
    "          dtypes = { \"Tip\": np.double })\n",
    "\n",
    "r.plot.barh(x=\"Zone\", y=\"Tip\", title=\"Average tip by pickup zone\");"
   ]
  },
  {
   "cell_type": "code",
   "execution_count": 11,
   "id": "f626cf03",
   "metadata": {},
   "outputs": [
    {
     "name": "stdout",
     "output_type": "stream",
     "text": [
      "\n",
      "Execution time: 2.862s  - 3.88x faster\n",
      "Global references: 1,764  - 13,973.16x less\n"
     ]
    },
    {
     "data": {
      "image/png": "[encoded data removed]",
      "text/plain": [
       "<Figure size 432x288 with 1 Axes>"
      ]
     },
     "metadata": {
      "needs_background": "light"
     },
     "output_type": "display_data"
    }
   ],
   "source": [
    "r = query(\"SELECT Zone, Borough, Tip FROM (\"+\n",
    "              \"SELECT TOP 10 PULocationID, AVG(tip_amount / fare_amount) Tip \"+\n",
    "              \"FROM NYTaxi.Rides2 \"+\n",
    "              \"WHERE fare_amount > 0 \"+\n",
    "              \"GROUP BY PULocationID \"+\n",
    "              \"ORDER BY 2 DESC\"+\n",
    "          \") r LEFT JOIN NYTaxi.Zones z ON r.PULocationID = z.LocationID\", \n",
    "          dtypes = { \"Tip\": np.double })\n",
    "\n",
    "r.plot.barh(x=\"Zone\", y=\"Tip\", title=\"Average tip by pickup zone\");"
   ]
  },
  {
   "cell_type": "code",
   "execution_count": 12,
   "id": "11cc5399",
   "metadata": {},
   "outputs": [
    {
     "name": "stdout",
     "output_type": "stream",
     "text": [
      "<plans>\n",
      " <plan>\n",
      " <sql>\n",
      "  SELECT Zone, Borough, Tip FROM (SELECT TOP 10 PULocationID, AVG(tip_amount / fare_amount) Tip FROM NYTaxi.Rides2 WHERE fare_amount > 0 GROUP BY PULocationID ORDER BY 2 DESC) r LEFT JOIN NYTaxi.Zones z ON r.PULocationID = z.LocationID /*#OPTIONS {\"xDBCIsoLevel\":\"0\"} */\n",
      " </sql>\n",
      " <cost value=\"55148\"/>\n",
      " Call module H, which populates temp-file A.\n",
      " Read temp-file A, looping on AVG and a counter.\n",
      " For each row:\n",
      "     Read index map NYTaxi.Zones.LocationID, using the given LocationID, and getting ID.\n",
      "     Read master map NYTaxi.Zones.IDKEY, using the given idkey value.\n",
      "     Generate a row padded with NULL for table NYTaxi.Zones if no row qualified.\n",
      "     Output the row.\n",
      " <module name=\"H\" top=\"1\">\n",
      " Call module I.\n",
      " Read array temp-file B, looping on PULocationID.\n",
      " For each row:\n",
      "     Read array temp-file C, using the given subscript values.\n",
      "     Read array temp-file D, using the given subscript values.\n",
      "     Add a row to temp-file A, subscripted by AVG and a counter,\n",
      "         with node data of PULocationID.\n",
      " </module>\n",
      " <module name=\"I\" top=\"1\">\n",
      " Read extent bitmap NYTaxi.Rides2.$Rides2, looping on bitmap chunks.\n",
      " For each bitmap chunk:\n",
      "     Read columnar index NYTaxi.Rides2._CDM_fareamount, using the given chunk number.\n",
      "     Apply vector operation > to produce a filter.\n",
      "     Read columnar index NYTaxi.Rides2._CDM_PULocationID, using the given chunk number.\n",
      "     Read columnar index NYTaxi.Rides2._CDM_tipamount, using the given chunk number.\n",
      "     Apply vector operations mask, v/, and sumg to populate array temp-file C, subscripted by [value] with node data of SUM([value]).\n",
      "     Apply vector operation countg to populate array temp-file D, subscripted by [value] with node data of COUNT([value]).\n",
      "     Apply vector operation groupg to populate array temp-file B, subscripted by [value].\n",
      " </module>\n",
      " </plan>\n",
      "</plans>\n"
     ]
    }
   ],
   "source": [
    "print(plans[-1])"
   ]
  },
  {
   "cell_type": "markdown",
   "id": "a203995b",
   "metadata": {},
   "source": [
    "The following query does some basic data quality style checking and would make sense to someone evaluating the data, but not at all be something your DBA would create an index for. It's an illustration of the _conversation_ you can have with big tables thanks to columnar storage."
   ]
  },
  {
   "cell_type": "code",
   "execution_count": 13,
   "id": "c9f2c0e4",
   "metadata": {},
   "outputs": [
    {
     "name": "stdout",
     "output_type": "stream",
     "text": [
      "\n",
      "Execution time: 6.080s \n",
      "Global references: 24,648,638 \n"
     ]
    },
    {
     "data": {
      "text/html": [
       "<div>\n",
       "<style scoped>\n",
       "    .dataframe tbody tr th:only-of-type {\n",
       "        vertical-align: middle;\n",
       "    }\n",
       "\n",
       "    .dataframe tbody tr th {\n",
       "        vertical-align: top;\n",
       "    }\n",
       "\n",
       "    .dataframe thead th {\n",
       "        text-align: right;\n",
       "    }\n",
       "</style>\n",
       "<table border=\"1\" class=\"dataframe\">\n",
       "  <thead>\n",
       "    <tr style=\"text-align: right;\">\n",
       "      <th></th>\n",
       "      <th>TimeTravel</th>\n",
       "    </tr>\n",
       "  </thead>\n",
       "  <tbody>\n",
       "    <tr>\n",
       "      <th>0</th>\n",
       "      <td>19874</td>\n",
       "    </tr>\n",
       "  </tbody>\n",
       "</table>\n",
       "</div>"
      ],
      "text/plain": [
       "   TimeTravel\n",
       "0       19874"
      ]
     },
     "execution_count": 13,
     "metadata": {},
     "output_type": "execute_result"
    }
   ],
   "source": [
    "reset_compare()\n",
    "query(\"SELECT COUNT(*) AS TimeTravel \"+\n",
    "      \"FROM NYTaxi.RowRides2 \"+\n",
    "      \"WHERE tpep_pickup_datetime > tpep_dropoff_datetime\")"
   ]
  },
  {
   "cell_type": "code",
   "execution_count": 14,
   "id": "7eb12734",
   "metadata": {},
   "outputs": [
    {
     "name": "stdout",
     "output_type": "stream",
     "text": [
      "\n",
      "Execution time: 0.465s  - 13.08x faster\n",
      "Global references: 1,456  - 16,929.01x less\n"
     ]
    },
    {
     "data": {
      "text/html": [
       "<div>\n",
       "<style scoped>\n",
       "    .dataframe tbody tr th:only-of-type {\n",
       "        vertical-align: middle;\n",
       "    }\n",
       "\n",
       "    .dataframe tbody tr th {\n",
       "        vertical-align: top;\n",
       "    }\n",
       "\n",
       "    .dataframe thead th {\n",
       "        text-align: right;\n",
       "    }\n",
       "</style>\n",
       "<table border=\"1\" class=\"dataframe\">\n",
       "  <thead>\n",
       "    <tr style=\"text-align: right;\">\n",
       "      <th></th>\n",
       "      <th>TimeTravel</th>\n",
       "    </tr>\n",
       "  </thead>\n",
       "  <tbody>\n",
       "    <tr>\n",
       "      <th>0</th>\n",
       "      <td>19874</td>\n",
       "    </tr>\n",
       "  </tbody>\n",
       "</table>\n",
       "</div>"
      ],
      "text/plain": [
       "   TimeTravel\n",
       "0       19874"
      ]
     },
     "execution_count": 14,
     "metadata": {},
     "output_type": "execute_result"
    }
   ],
   "source": [
    "query(\"SELECT COUNT(*) AS TimeTravel \"+\n",
    "      \"FROM NYTaxi.Rides2 \"+\n",
    "      \"WHERE tpep_pickup_datetime > tpep_dropoff_datetime\")"
   ]
  },
  {
   "cell_type": "markdown",
   "id": "582b2685",
   "metadata": {},
   "source": [
    "And now it's time to boast with some more spectacular differences"
   ]
  },
  {
   "cell_type": "code",
   "execution_count": 15,
   "id": "b9a82ccd",
   "metadata": {},
   "outputs": [
    {
     "name": "stdout",
     "output_type": "stream",
     "text": [
      "\n",
      "Execution time: 8.517s \n",
      "Global references: 24,648,638 \n"
     ]
    },
    {
     "data": {
      "image/png": "[encoded data removed]",
      "text/plain": [
       "<Figure size 432x288 with 1 Axes>"
      ]
     },
     "metadata": {
      "needs_background": "light"
     },
     "output_type": "display_data"
    }
   ],
   "source": [
    "reset_compare()\n",
    "r = query(\"SELECT AVG(fare_amount), AVG(tip_amount) \"+\n",
    "          \"FROM NYTaxi.RowRides2 \"+\n",
    "          \"WHERE payment_type = 1\")\n",
    "\n",
    "r.plot.bar(stacked=True, title=\"Average fare vs tip\");"
   ]
  },
  {
   "cell_type": "code",
   "execution_count": 16,
   "id": "99ca965c",
   "metadata": {},
   "outputs": [
    {
     "name": "stdout",
     "output_type": "stream",
     "text": [
      "\n",
      "Execution time: 0.140s  - 60.84x faster\n",
      "Global references: 1,741  - 14,157.75x less\n"
     ]
    },
    {
     "data": {
      "image/png": "[encoded data removed]",
      "text/plain": [
       "<Figure size 432x288 with 1 Axes>"
      ]
     },
     "metadata": {
      "needs_background": "light"
     },
     "output_type": "display_data"
    }
   ],
   "source": [
    "r = query(\"SELECT AVG(fare_amount) AS \\\"Average fare\\\", AVG(tip_amount) AS \\\"Average tip\\\" \"+\n",
    "          \"FROM NYTaxi.Rides2 \"+\n",
    "          \"WHERE payment_type = 1\")\n",
    "\n",
    "r.plot.bar(stacked=True, title=\"Average fare vs tip\");"
   ]
  },
  {
   "cell_type": "code",
   "execution_count": null,
   "id": "f78c18bc-37b3-4ef3-8710-a1548474abbb",
   "metadata": {},
   "outputs": [],
   "source": []
  }
 ],
 "metadata": {
  "kernelspec": {
   "display_name": "Python 3 (ipykernel)",
   "language": "python",
   "name": "python3"
  },
  "language_info": {
   "codemirror_mode": {
    "name": "ipython",
    "version": 3
   },
   "file_extension": ".py",
   "mimetype": "text/x-python",
   "name": "python",
   "nbconvert_exporter": "python",
   "pygments_lexer": "ipython3",
   "version": "3.9.12"
  }
 },
 "nbformat": 4,
 "nbformat_minor": 5
}
