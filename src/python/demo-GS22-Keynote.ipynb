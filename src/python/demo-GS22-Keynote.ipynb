{
 "cells": [
  {
   "cell_type": "markdown",
   "id": "c9aaada8-5da8-4a60-a27f-9d369359cdf3",
   "metadata": {},
   "source": [
    "# Demo"
   ]
  },
  {
   "cell_type": "code",
   "execution_count": 1,
   "id": "01633c46-a5f0-4dfa-b7b3-75a153eb1962",
   "metadata": {
    "jupyter": {
     "source_hidden": true
    },
    "tags": [
     "hide-cell"
    ]
   },
   "outputs": [],
   "source": [
    "import iris, time\n",
    "import pandas as pd\n",
    "import numpy as np\n",
    "import matplotlib.pyplot as plt\n",
    "\n",
    "connection = iris.connect(\"localhost:51777/NYTAXI\", \"_SYSTEM\", \"SYS\")\n",
    "\n",
    "import warnings\n",
    "warnings.simplefilter(\"ignore\")\n",
    "\n",
    "# utility vars and function to compare metrics\n",
    "last_time = 0\n",
    "last_grefs = 0\n",
    "plans = []\n",
    "\n",
    "def reset_compare():\n",
    "    global last_time, last_grefs\n",
    "    last_time = 0\n",
    "    last_grefs = 0\n",
    "\n",
    "def brag(prev, new, speed=True):\n",
    "    if ((prev == 0) or (new == 0) or (prev == new)):\n",
    "        return \"\"\n",
    "    if (prev > new):\n",
    "        rate = prev / new\n",
    "        if (rate > 2):\n",
    "            return \" - {:,.2f}x {}\".format(rate, \"faster\" if speed else \"less\")\n",
    "        else:\n",
    "            return \" - {:,.0%} {}\".format(rate-1, \"faster\" if speed else \"less\")\n",
    "    else:\n",
    "        rate = new / prev\n",
    "        if (rate > 2):\n",
    "            return \" - {:,.2f}x {}\".format(rate, \"slower\" if speed else \"more\")\n",
    "        else:\n",
    "            return \" - {:,.0%} {}\".format(rate-1, \"slower\" if speed else \"more\")\n",
    "\n",
    "def just_sql(sql):\n",
    "    c1 = connection.cursor()\n",
    "    c1.execute(sql)\n",
    "    result = c1.fetchall()[0][0]\n",
    "    c1.close()\n",
    "    return result  \n",
    "\n",
    "def query(sql, compare = True, dtypes = None):\n",
    "    global last_time, last_grefs, plans\n",
    "    \n",
    "    plans.append(just_sql(\"EXPLAIN \"+sql))\n",
    "    \n",
    "    start_grefs = just_sql(\"SELECT NYTaxi.GloRefs()\")\n",
    "    \n",
    "    start_time = time.time()\n",
    "    result = pd.read_sql_query(sql, connection, dtype = dtypes)\n",
    "    exec_time = time.time() - start_time\n",
    "    \n",
    "    exec_grefs = just_sql(\"SELECT NYTaxi.GloRefs()\") - start_grefs - 1\n",
    "    \n",
    "    if compare:\n",
    "        print(\"\\nExecution time: {:.3f}s \".format(exec_time) + brag(last_time, exec_time))\n",
    "        print(\"Global references: {:,} \".format(exec_grefs) + brag(last_grefs, exec_grefs, False))\n",
    "        last_time = exec_time\n",
    "        last_grefs = exec_grefs\n",
    "    else:\n",
    "        print(\"\\nExecution time: {:.3f}s\\nGlobal references: {:,}\".format(exec_time, exec_grefs))\n",
    "    \n",
    "    return result\n"
   ]
  },
  {
   "cell_type": "markdown",
   "id": "213b1cbb",
   "metadata": {},
   "source": [
    "## A first look around\n",
    "\n",
    "```SQL\n",
    "  SELECT passenger_count AS \"Passengers\",\n",
    "         COUNT(*) AS \"count\"\n",
    "    FROM NYTaxi.Rides2 \n",
    "GROUP BY passenger_count \n",
    "ORDER BY passenger_count DESC\n",
    "```"
   ]
  },
  {
   "cell_type": "code",
   "execution_count": 4,
   "id": "afa5cbbf",
   "metadata": {
    "jupyter": {
     "source_hidden": true
    },
    "tags": []
   },
   "outputs": [
    {
     "name": "stdout",
     "output_type": "stream",
     "text": [
      "\n",
      "Execution time: 0.700s\n",
      "Global references: 1,019\n"
     ]
    },
    {
     "data": {
      "image/png": "[encoded data removed]",
      "text/plain": [
       "<Figure size 432x288 with 1 Axes>"
      ]
     },
     "metadata": {
      "needs_background": "light"
     },
     "output_type": "display_data"
    }
   ],
   "source": [
    "r = query(\"SELECT passenger_count AS \\\"Passengers\\\", \"+\n",
    "                \"COUNT(*) AS \\\"count\\\" \"+\n",
    "          \"FROM NYTaxi.Rides2 \"+\n",
    "          \"GROUP BY passenger_count \"+\n",
    "          \"ORDER BY passenger_count DESC\", False)\n",
    "\n",
    "r.plot.barh(x='Passengers',y='count',title=\"# of rides by passenger count\");"
   ]
  },
  {
   "cell_type": "markdown",
   "id": "63cc1901",
   "metadata": {},
   "source": [
    "## Forcing 2021.1 behaviour\n",
    "\n",
    "```sql\n",
    "SELECT %NORUNTIME AVG(total_amount) \n",
    "  FROM NYTaxi.RowRides2 \n",
    "WHERE passenger_count > 2\n",
    "      AND tpep_pickup_datetime BETWEEN '2020-01-01' AND '2020-06-30'\n",
    "```"
   ]
  },
  {
   "cell_type": "code",
   "execution_count": 8,
   "id": "eead704d",
   "metadata": {
    "jupyter": {
     "source_hidden": true
    },
    "tags": []
   },
   "outputs": [
    {
     "name": "stdout",
     "output_type": "stream",
     "text": [
      "\n",
      "Execution time: 15.503s \n",
      "Global references: 31,341,809 \n"
     ]
    },
    {
     "data": {
      "text/html": [
       "<div>\n",
       "<style scoped>\n",
       "    .dataframe tbody tr th:only-of-type {\n",
       "        vertical-align: middle;\n",
       "    }\n",
       "\n",
       "    .dataframe tbody tr th {\n",
       "        vertical-align: top;\n",
       "    }\n",
       "\n",
       "    .dataframe thead th {\n",
       "        text-align: right;\n",
       "    }\n",
       "</style>\n",
       "<table border=\"1\" class=\"dataframe\">\n",
       "  <thead>\n",
       "    <tr style=\"text-align: right;\">\n",
       "      <th></th>\n",
       "      <th>Aggregate_1</th>\n",
       "    </tr>\n",
       "  </thead>\n",
       "  <tbody>\n",
       "    <tr>\n",
       "      <th>0</th>\n",
       "      <td>18.772439</td>\n",
       "    </tr>\n",
       "  </tbody>\n",
       "</table>\n",
       "</div>"
      ],
      "text/plain": [
       "   Aggregate_1\n",
       "0    18.772439"
      ]
     },
     "execution_count": 8,
     "metadata": {},
     "output_type": "execute_result"
    }
   ],
   "source": [
    "reset_compare()\n",
    "query(\"SELECT %NORUNTIME AVG(total_amount) \"+\n",
    "        \"FROM NYTaxi.RowRides2 \"+\n",
    "        \"WHERE passenger_count > 2 \"+\n",
    "              \"AND tpep_pickup_datetime BETWEEN '2020-01-01' AND '2020-06-30'\")"
   ]
  },
  {
   "cell_type": "markdown",
   "id": "1bf406e1",
   "metadata": {},
   "source": [
    "## Now using Adaptive Mode, ON by default in 2022.1\n",
    "\n",
    "```sql\n",
    "SELECT AVG(total_amount) \n",
    "  FROM NYTaxi.RowRides2 \n",
    "WHERE passenger_count > 2\n",
    "      AND tpep_pickup_datetime BETWEEN '2020-01-01' AND '2020-06-30'\n",
    "```"
   ]
  },
  {
   "cell_type": "code",
   "execution_count": 9,
   "id": "6c4c274b",
   "metadata": {
    "jupyter": {
     "source_hidden": true
    },
    "tags": []
   },
   "outputs": [
    {
     "name": "stdout",
     "output_type": "stream",
     "text": [
      "\n",
      "Execution time: 1.878s  - 8.26x faster\n",
      "Global references: 2,490,964  - 12.58x less\n"
     ]
    },
    {
     "data": {
      "text/html": [
       "<div>\n",
       "<style scoped>\n",
       "    .dataframe tbody tr th:only-of-type {\n",
       "        vertical-align: middle;\n",
       "    }\n",
       "\n",
       "    .dataframe tbody tr th {\n",
       "        vertical-align: top;\n",
       "    }\n",
       "\n",
       "    .dataframe thead th {\n",
       "        text-align: right;\n",
       "    }\n",
       "</style>\n",
       "<table border=\"1\" class=\"dataframe\">\n",
       "  <thead>\n",
       "    <tr style=\"text-align: right;\">\n",
       "      <th></th>\n",
       "      <th>Aggregate_1</th>\n",
       "    </tr>\n",
       "  </thead>\n",
       "  <tbody>\n",
       "    <tr>\n",
       "      <th>0</th>\n",
       "      <td>18.772439</td>\n",
       "    </tr>\n",
       "  </tbody>\n",
       "</table>\n",
       "</div>"
      ],
      "text/plain": [
       "   Aggregate_1\n",
       "0    18.772439"
      ]
     },
     "execution_count": 9,
     "metadata": {},
     "output_type": "execute_result"
    }
   ],
   "source": [
    "query(\"SELECT AVG(total_amount) \"+\n",
    "             \"FROM NYTaxi.RowRides2 \"+\n",
    "             \"WHERE passenger_count > 2 \"+\n",
    "                   \"AND tpep_pickup_datetime BETWEEN '2020-01-01' AND '2020-06-30'\")"
   ]
  },
  {
   "cell_type": "markdown",
   "id": "9a00be2e",
   "metadata": {},
   "source": [
    "## Why are these parameters special?\n",
    "\n",
    "```sql\n",
    "SELECT BUCKET_POSITION, PERCENTILE, VALUE\n",
    "  FROM INFORMATION_SCHEMA.COLUMN_HISTOGRAMS\n",
    " WHERE TABLE_SCHEMA = 'NYTaxi'\n",
    "       AND TABLE_NAME = 'RowRides2'\n",
    "       AND COLUMN_NAME = 'tpep_pickup_datetime'\n",
    "```"
   ]
  },
  {
   "cell_type": "code",
   "execution_count": 10,
   "id": "6dc45077",
   "metadata": {
    "jupyter": {
     "source_hidden": true
    },
    "tags": []
   },
   "outputs": [
    {
     "name": "stdout",
     "output_type": "stream",
     "text": [
      "\n",
      "Execution time: 0.110s\n",
      "Global references: 37,799\n"
     ]
    },
    {
     "data": {
      "image/png": "[encoded data removed]",
      "text/plain": [
       "<Figure size 432x288 with 1 Axes>"
      ]
     },
     "metadata": {
      "needs_background": "light"
     },
     "output_type": "display_data"
    }
   ],
   "source": [
    "r = query(\"SELECT BUCKET_POSITION, PERCENTILE, VALUE, CAST((VALUE+0) AS POSIXTIME) AS DATE_VALUE \"+\n",
    "          \"FROM INFORMATION_SCHEMA.COLUMN_HISTOGRAMS \"+\n",
    "          \"WHERE TABLE_SCHEMA = 'NYTaxi' \"+\n",
    "                \"AND TABLE_NAME = 'RowRides2' \"+\n",
    "                \"AND COLUMN_NAME = 'tpep_pickup_datetime'\", False)\n",
    "plt.plot(r['VALUE'], r['PERCENTILE'])\n",
    "plt.xticks(ticks=[r['VALUE'].min(), r['VALUE'].max()], \n",
    "           labels=[r['DATE_VALUE'].min()[0:10], r['DATE_VALUE'].max()[0:10]])\n",
    "plt.title('Cumulative frequency')\n",
    "plt.show()"
   ]
  },
  {
   "cell_type": "markdown",
   "id": "3daef544",
   "metadata": {},
   "source": [
    "## How about 10x faster?"
   ]
  },
  {
   "cell_type": "code",
   "execution_count": 11,
   "id": "1cc1c91e",
   "metadata": {
    "jupyter": {
     "source_hidden": true
    },
    "tags": []
   },
   "outputs": [
    {
     "name": "stdout",
     "output_type": "stream",
     "text": [
      "\n",
      "Execution time: 0.125s  - 15.02x faster\n",
      "Global references: 1,500  - 1,660.64x less\n"
     ]
    },
    {
     "data": {
      "text/html": [
       "<div>\n",
       "<style scoped>\n",
       "    .dataframe tbody tr th:only-of-type {\n",
       "        vertical-align: middle;\n",
       "    }\n",
       "\n",
       "    .dataframe tbody tr th {\n",
       "        vertical-align: top;\n",
       "    }\n",
       "\n",
       "    .dataframe thead th {\n",
       "        text-align: right;\n",
       "    }\n",
       "</style>\n",
       "<table border=\"1\" class=\"dataframe\">\n",
       "  <thead>\n",
       "    <tr style=\"text-align: right;\">\n",
       "      <th></th>\n",
       "      <th>Aggregate_1</th>\n",
       "    </tr>\n",
       "  </thead>\n",
       "  <tbody>\n",
       "    <tr>\n",
       "      <th>0</th>\n",
       "      <td>18.772439</td>\n",
       "    </tr>\n",
       "  </tbody>\n",
       "</table>\n",
       "</div>"
      ],
      "text/plain": [
       "   Aggregate_1\n",
       "0    18.772439"
      ]
     },
     "execution_count": 11,
     "metadata": {},
     "output_type": "execute_result"
    }
   ],
   "source": [
    "query(\"SELECT AVG(total_amount) \"+\n",
    "        \"FROM NYTaxi.Rides2 \"+\n",
    "       \"WHERE passenger_count > 2 \"+\n",
    "             \"AND tpep_pickup_datetime BETWEEN '2020-01-01' AND '2020-06-30'\")"
   ]
  },
  {
   "cell_type": "code",
   "execution_count": null,
   "id": "f78c18bc-37b3-4ef3-8710-a1548474abbb",
   "metadata": {},
   "outputs": [],
   "source": []
  }
 ],
 "metadata": {
  "kernelspec": {
   "display_name": "Python 3 (ipykernel)",
   "language": "python",
   "name": "python3"
  },
  "language_info": {
   "codemirror_mode": {
    "name": "ipython",
    "version": 3
   },
   "file_extension": ".py",
   "mimetype": "text/x-python",
   "name": "python",
   "nbconvert_exporter": "python",
   "pygments_lexer": "ipython3",
   "version": "3.9.12"
  }
 },
 "nbformat": 4,
 "nbformat_minor": 5
}
