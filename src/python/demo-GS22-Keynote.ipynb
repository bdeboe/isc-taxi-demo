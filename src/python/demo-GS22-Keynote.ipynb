{
 "cells": [
  {
   "cell_type": "markdown",
   "id": "f6a56fe6-3b79-4e23-80fe-6dbdd1cee9ec",
   "metadata": {},
   "source": [
    "# Global Summit 2022 - Keynote demo\n",
    "\n",
    "This notebook covers the IRIS SQL demo shown in the Global Summit 2022 keynote session on InterSystems IRIS. Focal point of this demo is the new _Adaptive Mode_ for IRIS SQL, which includes the Run-Time Plan Choice feature that offers smart re-planning of queries in the presenece of outliers and other hard-to-plan-for conditions, without forsaking the high throughput offered by IRIS' elaborate plan reuse model."
   ]
  },
  {
   "cell_type": "code",
   "execution_count": 1,
   "id": "01633c46-a5f0-4dfa-b7b3-75a153eb1962",
   "metadata": {
    "jupyter": {
     "source_hidden": true
    },
    "tags": [
     "hide-input",
     "hide-cell"
    ]
   },
   "outputs": [],
   "source": [
    "# dull imports and utility methods - you can skip right through!\n",
    "\n",
    "import iris, time\n",
    "import pandas as pd\n",
    "import numpy as np\n",
    "import matplotlib.pyplot as plt\n",
    "\n",
    "# replace this with your connection info as needed\n",
    "hostname = os.getenv(\"ISC_TAXI_HOSTNAME\")\n",
    "port = os.getenv(\"ISC_TAXI_PORT\")\n",
    "namespace = os.getenv(\"ISC_TAXI_NAMESPACE\")\n",
    "user = os.getenv(\"ISC_TAXI_USER\")\n",
    "pwd = os.getenv(\"ISC_TAXI_PASSWORD\")\n",
    "\n",
    "connection = iris.connect(str(hostname)+\":\"+str(port)+\"/\"+str(namespace), user, pwd)\n",
    "\n",
    "import warnings\n",
    "warnings.simplefilter(\"ignore\")\n",
    "\n",
    "# utility vars and function to compare metrics\n",
    "history = { \"time\": {}, \"grefs\": {}, \"logical\": {}, \"physical\": {} }\n",
    "plans = []\n",
    "\n",
    "def reset_compare():\n",
    "    global history\n",
    "    history = { \"time\": {}, \"grefs\": {}, \"logical\": {}, \"physical\": {} }\n",
    "\n",
    "def brag(prev, new, speed=True):\n",
    "    if ((prev == 0) or (new == 0) or (prev == new)):\n",
    "        return \"\"\n",
    "    if (prev > new):\n",
    "        rate = prev / new\n",
    "        if (rate > 20):\n",
    "            return \" - {:,.0f}x {}\".format(rate, \"faster\" if speed else \"less\")\n",
    "        elif (rate > 2):\n",
    "            return \" - {:,.2f}x {}\".format(rate, \"faster\" if speed else \"less\")\n",
    "        else:\n",
    "            return \" - {:,.0%} {}\".format(rate-1, \"faster\" if speed else \"less\")\n",
    "    else:\n",
    "        rate = new / prev\n",
    "        if (rate > 20):\n",
    "            return \" - {:,.0f}x {}\".format(rate, \"slower\" if speed else \"more\")\n",
    "        elif (rate > 2):\n",
    "            return \" - {:,.2f}x {}\".format(rate, \"slower\" if speed else \"more\")\n",
    "        else:\n",
    "            return \" - {:,.0%} {}\".format(rate-1, \"slower\" if speed else \"more\")\n",
    "\n",
    "def just_sql(sql):\n",
    "    c1 = connection.cursor()\n",
    "    c1.execute(sql)\n",
    "    result = c1.fetchall()[0]\n",
    "    c1.close()\n",
    "    return result  \n",
    "\n",
    "def query(sql, compare = None, dtypes = None):\n",
    "    global plans, history\n",
    "    \n",
    "    plans.append(just_sql(\"EXPLAIN \"+sql)[0])\n",
    "    \n",
    "    start_grefs, start_logical, start_physical = just_sql(\"SELECT NYTaxi.GloRefs(), NYTaxi.LogicalBytes(), NYTaxi.PhysicalBytes()\")\n",
    "    \n",
    "    start_time = time.time()\n",
    "    result = pd.read_sql_query(sql, connection, dtype = dtypes)\n",
    "    exec_time = time.time() - start_time\n",
    "    \n",
    "    end_grefs, end_logical, end_physical = just_sql(\"SELECT NYTaxi.GloRefs(), NYTaxi.LogicalBytes(), NYTaxi.PhysicalBytes()\")\n",
    "    exec_grefs = end_grefs - start_grefs - 1\n",
    "    exec_logical = end_logical - start_logical\n",
    "    exec_physical = end_physical - start_physical\n",
    "    \n",
    "    print(\"\\nExecution time: {:.3f}s\\nGlobal references: {:,}\".format(exec_time, exec_grefs))\n",
    "    \n",
    "    if compare is not None:\n",
    "        #print(\"\\nExecution time: {:.3f}s \".format(exec_time) + brag(last_time, exec_time))\n",
    "        #print(\"Global references: {:,} \".format(exec_grefs) + brag(last_grefs, exec_grefs, False))\n",
    "        history['time'][compare] = exec_time\n",
    "        history['grefs'][compare] = exec_grefs\n",
    "        history['logical'][compare] = exec_logical\n",
    "        history['physical'][compare] = exec_physical\n",
    "    \n",
    "    return result\n",
    "\n",
    "def plot_compare(show_bytes = False):\n",
    "    global history\n",
    "    if show_bytes:\n",
    "        fig, (ax1, ax2, ax3) = plt.subplots(1, 3, figsize=(10,5))\n",
    "    else:\n",
    "        fig, (ax1, ax2) = plt.subplots(1, 2, figsize=(8,5))\n",
    "    fig.suptitle('Query Performance Comparison', y=1.05, size=15)\n",
    "\n",
    "    b1 = ax1.bar(history['time'].keys(), history['time'].values(), color=['tab:blue','tab:orange','tab:green'])\n",
    "    ax1.set_title(\"Execution time\", pad=10)\n",
    "    ax1.bar_label(b1, fmt='%.2fs')\n",
    "    ax1.set_ylim(top=(max(history['time'].values())*1.1))\n",
    "    v1 = list(history['time'].values())\n",
    "    if len(v1)==3:\n",
    "        ax1.annotate(brag(v1[0],v1[1])[3:].replace(' ','\\n'), \n",
    "                     (0.5, 0.7), xycoords='axes fraction',\n",
    "                     ha='center', va=\"bottom\")\n",
    "        ax1.annotate(brag(v1[1],v1[2])[3:].replace(' ','\\n'), \n",
    "                     (0.84, 0.4), xycoords='axes fraction',\n",
    "                     ha='center', va=\"bottom\", \n",
    "                     size=15, fontweight=\"bold\")\n",
    "    else:\n",
    "        ax1.annotate(brag(v1[len(v1)-2],v1[len(v1)-1])[3:].replace(' ','\\n'), \n",
    "                     (0.75, 0.5), xycoords='axes fraction',\n",
    "                     ha='center', va=\"bottom\", \n",
    "                     size=15, fontweight=\"bold\")\n",
    "\n",
    "    b2 = ax2.bar(history['grefs'].keys(), history['grefs'].values(), color=['tab:blue','tab:orange','tab:green'])\n",
    "    ax2.set_title(\"IO (grefs)\", pad=10)\n",
    "    ax2.bar_label(b2, fmt='%d')\n",
    "    ax2.set_ylim(top=(max(history['grefs'].values())*1.1))\n",
    "    v2 = list(history['grefs'].values())\n",
    "    if len(v2)==3:\n",
    "        ax2.annotate(brag(v2[0],v2[1],False)[3:].replace(' ','\\n'), \n",
    "                     (0.5, 0.7), xycoords='axes fraction',\n",
    "                     ha='center', va=\"bottom\")\n",
    "        ax2.annotate(brag(v2[1],v2[2],False)[3:].replace(' ','\\n'), \n",
    "                     (0.84, 0.4), xycoords='axes fraction',\n",
    "                     ha='center', va='bottom',\n",
    "                     size=15, fontweight=\"bold\")\n",
    "    else:\n",
    "        ax2.annotate(brag(v2[len(v2)-2],v2[len(v2)-1],False)[3:].replace(' ','\\n'), \n",
    "                     (0.75, 0.5), xycoords='axes fraction',\n",
    "                     ha='center', va='bottom',\n",
    "                     size=15, fontweight=\"bold\")\n",
    "    \n",
    "    if show_bytes:\n",
    "        b3 = ax3.bar(history['logical'].keys(), history['logical'].values(), color=['tab:blue','tab:orange','tab:green'])\n",
    "        ax3.set_title(\"Logical reads\", pad=10)\n",
    "        ax3.bar_label(b3, fmt='%d kB')\n",
    "        ax3.set_ylim(top=(max(history['logical'].values())*1.1))\n",
    "        v3 = list(history['logical'].values())\n",
    "        if len(v3)==3:\n",
    "            ax3.annotate(brag(v3[0],v3[1],False)[3:].replace(' ','\\n'), \n",
    "                         (0.5, 0.7), xycoords='axes fraction',\n",
    "                         ha='center', va=\"bottom\")\n",
    "            ax3.annotate(brag(v3[1],v3[2],False)[3:].replace(' ','\\n'), \n",
    "                         (0.84, 0.4), xycoords='axes fraction',\n",
    "                         ha='center', va='bottom',\n",
    "                         size=15, fontweight=\"bold\")\n",
    "        else:\n",
    "            ax3.annotate(brag(v3[len(v3)-2],v3[len(v3)-1],False)[3:].replace(' ','\\n'), \n",
    "                         (0.75, 0.5), xycoords='axes fraction',\n",
    "                         ha='center', va='bottom',\n",
    "                         size=15, fontweight=\"bold\")"
   ]
  },
  {
   "cell_type": "markdown",
   "id": "8bd2cb80-1356-4e4b-9ca1-a2b7895fd234",
   "metadata": {},
   "source": [
    "## A first look around\n",
    "\n",
    "The following query takes a quick look around, just fetching the number of rows from our main table.\n",
    "\n",
    "```sql\n",
    "SELECT COUNT(*) FROM NYTaxi.Rides\n",
    "```"
   ]
  },
  {
   "cell_type": "code",
   "execution_count": 2,
   "id": "68b01b47-bcc4-451b-94d7-c2ff6f4c5516",
   "metadata": {
    "tags": [
     "hide-input",
     "hide_input"
    ]
   },
   "outputs": [
    {
     "name": "stdout",
     "output_type": "stream",
     "text": [
      "\n",
      "Execution time: 0.152s\n",
      "Global references: 394\n"
     ]
    },
    {
     "data": {
      "text/html": [
       "<div>\n",
       "<style scoped>\n",
       "    .dataframe tbody tr th:only-of-type {\n",
       "        vertical-align: middle;\n",
       "    }\n",
       "\n",
       "    .dataframe tbody tr th {\n",
       "        vertical-align: top;\n",
       "    }\n",
       "\n",
       "    .dataframe thead th {\n",
       "        text-align: right;\n",
       "    }\n",
       "</style>\n",
       "<table border=\"1\" class=\"dataframe\">\n",
       "  <thead>\n",
       "    <tr style=\"text-align: right;\">\n",
       "      <th></th>\n",
       "      <th>TotalCount</th>\n",
       "    </tr>\n",
       "  </thead>\n",
       "  <tbody>\n",
       "    <tr>\n",
       "      <th>0</th>\n",
       "      <td>24648631</td>\n",
       "    </tr>\n",
       "  </tbody>\n",
       "</table>\n",
       "</div>"
      ],
      "text/plain": [
       "   TotalCount\n",
       "0    24648631"
      ]
     },
     "execution_count": 2,
     "metadata": {},
     "output_type": "execute_result"
    }
   ],
   "source": [
    "query(\"SELECT COUNT(*) AS TotalCount FROM NYTaxi.Rides\")"
   ]
  },
  {
   "attachments": {},
   "cell_type": "markdown",
   "id": "beb1161c-d9b4-4cb1-b1f4-24448061ec71",
   "metadata": {},
   "source": [
    "## Rides by passenger count\n",
    "\n",
    "To give you an idea of what the data looks like, here's a breakdown of rides by passenger count. Clearly the data is not evenly distributed and single-passenger rides are most common.\n",
    "\n",
    "```SQL\n",
    "  SELECT passenger_count AS \"Passengers\",\n",
    "         COUNT(*) AS \"Count\"\n",
    "    FROM NYTaxi.Rides\n",
    "GROUP BY passenger_count \n",
    "ORDER BY passenger_count\n",
    "```"
   ]
  },
  {
   "cell_type": "code",
   "execution_count": 3,
   "id": "afa5cbbf",
   "metadata": {
    "tags": [
     "hide-input"
    ]
   },
   "outputs": [
    {
     "name": "stdout",
     "output_type": "stream",
     "text": [
      "\n",
      "Execution time: 0.020s\n",
      "Global references: 2,913\n"
     ]
    },
    {
     "data": {
      "image/png": "[encoded data removed]",
      "text/plain": [
       "<Figure size 432x288 with 1 Axes>"
      ]
     },
     "metadata": {
      "needs_background": "light"
     },
     "output_type": "display_data"
    }
   ],
   "source": [
    "r = query(\"SELECT passenger_count AS Passengers, COUNT(*) AS \\\"Count\\\" FROM NYTaxi.RowRides GROUP BY passenger_count ORDER BY passenger_count\")\n",
    "r.plot.bar(x='Passengers',y='Count',title=\"# of rides by passenger count\");"
   ]
  },
  {
   "cell_type": "markdown",
   "id": "63cc1901",
   "metadata": {},
   "source": [
    "## Average group fare in early 2020\n",
    "\n",
    "Let's take a look at the average total fare for rides with more than two passengers in the first three months of 2020.\n",
    "\n",
    "### Forcing the default plan\n",
    "\n",
    "We'll first use the `%NORUNTIME` hint to force using the default plan and ignoring runtime parameters.\n",
    "\n",
    "```sql\n",
    "SELECT %NORUNTIME AVG(total_amount) AS \"Average Fare\" \n",
    "  FROM NYTaxi.Rides \n",
    "WHERE passenger_count > 2\n",
    "      AND tpep_pickup_datetime BETWEEN '2020-01-01' AND '2020-03-31'\n",
    "```"
   ]
  },
  {
   "cell_type": "code",
   "execution_count": 4,
   "id": "eead704d",
   "metadata": {
    "tags": [
     "hide-input"
    ]
   },
   "outputs": [
    {
     "name": "stdout",
     "output_type": "stream",
     "text": [
      "\n",
      "Execution time: 12.910s\n",
      "Global references: 28,208,009\n"
     ]
    },
    {
     "data": {
      "text/html": [
       "<div>\n",
       "<style scoped>\n",
       "    .dataframe tbody tr th:only-of-type {\n",
       "        vertical-align: middle;\n",
       "    }\n",
       "\n",
       "    .dataframe tbody tr th {\n",
       "        vertical-align: top;\n",
       "    }\n",
       "\n",
       "    .dataframe thead th {\n",
       "        text-align: right;\n",
       "    }\n",
       "</style>\n",
       "<table border=\"1\" class=\"dataframe\">\n",
       "  <thead>\n",
       "    <tr style=\"text-align: right;\">\n",
       "      <th></th>\n",
       "      <th>Average Fare</th>\n",
       "    </tr>\n",
       "  </thead>\n",
       "  <tbody>\n",
       "    <tr>\n",
       "      <th>0</th>\n",
       "      <td>18.875639</td>\n",
       "    </tr>\n",
       "  </tbody>\n",
       "</table>\n",
       "</div>"
      ],
      "text/plain": [
       "   Average Fare\n",
       "0     18.875639"
      ]
     },
     "execution_count": 4,
     "metadata": {},
     "output_type": "execute_result"
    }
   ],
   "source": [
    "reset_compare()\n",
    "query(\"SELECT %NORUNTIME AVG(total_amount) AS \\\"Average Fare\\\" FROM NYTaxi.RowRides WHERE passenger_count > 2 AND tpep_pickup_datetime BETWEEN '2020-01-01' AND '2020-03-31'\", compare=\"default plan\")"
   ]
  },
  {
   "cell_type": "markdown",
   "id": "1bf406e1",
   "metadata": {},
   "source": [
    "### Adaptive Planning - new in 2022.1!\n",
    "\n",
    "For this second run, we'll drop the hint and go with the default behaviour, which now uses _Adaptive Mode_, meaning we'll check supplied parameter values at runtime, to see if a different plan might be more appropriate given the specific parameter values supplied by the user.\n",
    "\n",
    "```sql\n",
    "SELECT AVG(total_amount) AS \"Average Fare\" \n",
    "  FROM NYTaxi.Rides\n",
    "WHERE passenger_count > 2\n",
    "      AND tpep_pickup_datetime BETWEEN '2020-01-01' AND '2020-03-31'\n",
    "```"
   ]
  },
  {
   "cell_type": "code",
   "execution_count": 5,
   "id": "6c4c274b",
   "metadata": {
    "tags": [
     "hide-input"
    ]
   },
   "outputs": [
    {
     "name": "stdout",
     "output_type": "stream",
     "text": [
      "\n",
      "Execution time: 1.686s\n",
      "Global references: 2,490,971\n"
     ]
    },
    {
     "data": {
      "image/png": "[encoded data removed]",
      "text/plain": [
       "<Figure size 576x360 with 2 Axes>"
      ]
     },
     "metadata": {
      "needs_background": "light"
     },
     "output_type": "display_data"
    }
   ],
   "source": [
    "query(\"SELECT AVG(total_amount) AS \\\"Average Fare\\\" FROM NYTaxi.RowRides WHERE passenger_count > 2 AND tpep_pickup_datetime BETWEEN '2020-01-01' AND '2020-03-31'\", compare=\"adaptive plan\")\n",
    "plot_compare()"
   ]
  },
  {
   "cell_type": "markdown",
   "id": "9a00be2e",
   "metadata": {},
   "source": [
    "## Why are these parameters special?\n",
    "\n",
    "To understand why these parameters are special, we can plot the distribution of rides over time. This shows us that those first three months of 2020 actually cover the vast majority of our dataset, hence the default plan, which starts from the index on our highly selective pickup time field, is not such a great idea. Run-Time Plan Choice, as part of Adaptive Mode, will pick up on this and select a different plan that leads to a faster result. "
   ]
  },
  {
   "cell_type": "code",
   "execution_count": 6,
   "id": "aa58ca37-6955-4ee9-af46-f4be8edaac73",
   "metadata": {},
   "outputs": [
    {
     "name": "stdout",
     "output_type": "stream",
     "text": [
      "\n",
      "Execution time: 2.809s\n",
      "Global references: 2,857\n"
     ]
    },
    {
     "data": {
      "image/png": "[encoded data removed]",
      "text/plain": [
       "<Figure size 432x288 with 1 Axes>"
      ]
     },
     "metadata": {
      "needs_background": "light"
     },
     "output_type": "display_data"
    }
   ],
   "source": [
    "r = query(\"SELECT MonthYear, SUM(sample) As RowCount FROM (select $PIECE(CAST(CAST(tpep_pickup_datetime AS POSIXTIME) AS VARCHAR),'-',1,2) AS MonthYear, 10000 AS sample FROM %PARALLEL NYTaxi.RowRides WHERE (%ID # 10000)=0) GROUP BY MonthYear\")\n",
    "r.plot.bar(x='MonthYear', y='RowCount');"
   ]
  },
  {
   "cell_type": "markdown",
   "id": "13007116-27ba-453e-8e07-2adee76184e5",
   "metadata": {},
   "source": [
    "## How about 10x faster?\n",
    "\n",
    "And when we store the same data using columnar storage, we can further increase performance by leaning on fast vectorized processing on the keenly encoded vector data."
   ]
  },
  {
   "cell_type": "code",
   "execution_count": 7,
   "id": "1cc1c91e",
   "metadata": {
    "tags": [
     "hide-input"
    ]
   },
   "outputs": [
    {
     "name": "stdout",
     "output_type": "stream",
     "text": [
      "\n",
      "Execution time: 0.129s\n",
      "Global references: 1,500\n"
     ]
    },
    {
     "data": {
      "image/png": "[encoded data removed]",
      "text/plain": [
       "<Figure size 576x360 with 2 Axes>"
      ]
     },
     "metadata": {
      "needs_background": "light"
     },
     "output_type": "display_data"
    }
   ],
   "source": [
    "query(\"SELECT AVG(total_amount) AS \\\"Average Fare\\\" FROM NYTaxi.Rides WHERE passenger_count > 2 AND tpep_pickup_datetime BETWEEN '2020-01-01' AND '2020-06-30'\", compare=\"columnar\")\n",
    "plot_compare()"
   ]
  }
 ],
 "metadata": {
  "kernelspec": {
   "display_name": "Python 3 (ipykernel)",
   "language": "python",
   "name": "python3"
  },
  "language_info": {
   "codemirror_mode": {
    "name": "ipython",
    "version": 3
   },
   "file_extension": ".py",
   "mimetype": "text/x-python",
   "name": "python",
   "nbconvert_exporter": "python",
   "pygments_lexer": "ipython3",
   "version": "3.9.12"
  }
 },
 "nbformat": 4,
 "nbformat_minor": 5
}
