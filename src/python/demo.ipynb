{
 "cells": [
  {
   "cell_type": "markdown",
   "id": "dc090d83-4c3c-44fe-a379-ff28012bad4c",
   "metadata": {},
   "source": [
    "# Yet Another NY Taxi demo\n",
    "\n",
    "In this notebook, we'll set up a connection to IRIS and walk through a few exciting query results showcasing advances in IRIS SQL throughout 2022.1 and 2022.2. First, we're using IRIS DB-API to set up a connection to IRIS."
   ]
  },
  {
   "cell_type": "code",
   "execution_count": 1,
   "id": "9dce9035-8712-465b-a0cf-469adfdad443",
   "metadata": {},
   "outputs": [],
   "source": [
    "import iris, time\n",
    "import pandas as pd\n",
    "import numpy as np\n",
    "import matplotlib.pyplot as plt\n",
    "\n",
    "connection = iris.connect(\"localhost:51789/NYTAXI\", \"_SYSTEM\", \"SYS\")"
   ]
  },
  {
   "cell_type": "markdown",
   "id": "eb9de0e3-c40b-449d-b178-98586af06c43",
   "metadata": {},
   "source": [
    "The following utility paragraph just suppresses usage warnings for pandas preferring SQLAlchemy over DB-API "
   ]
  },
  {
   "cell_type": "code",
   "execution_count": 2,
   "id": "ce7dd715-e562-480e-84c1-e8c63a1d3156",
   "metadata": {},
   "outputs": [],
   "source": [
    "import warnings\n",
    "warnings.simplefilter(\"ignore\")"
   ]
  },
  {
   "cell_type": "markdown",
   "id": "749cf9d9-2ac1-4aea-a369-1555bb6cbe76",
   "metadata": {},
   "source": [
    "Now we'll set up a few utility functions we'll be using throughout the demo"
   ]
  },
  {
   "cell_type": "code",
   "execution_count": 3,
   "id": "f4077d78-f77d-4ff0-9b85-5d83e676f297",
   "metadata": {},
   "outputs": [],
   "source": [
    "# utility vars and function to compare metrics\n",
    "last_time = 0\n",
    "last_grefs = 0\n",
    "plans = []\n",
    "\n",
    "def reset_compare():\n",
    "    global last_time, last_grefs\n",
    "    last_time = 0\n",
    "    last_grefs = 0\n",
    "\n",
    "def brag(prev, new, speed=True):\n",
    "    if ((prev == 0) or (new == 0) or (prev == new)):\n",
    "        return \"\"\n",
    "    if (prev > new):\n",
    "        rate = prev / new\n",
    "        if (rate > 2):\n",
    "            return \" - {:,.2f}x {}\".format(rate, \"faster\" if speed else \"less\")\n",
    "        else:\n",
    "            return \" - {:,.0%} {}\".format(rate-1, \"faster\" if speed else \"less\")\n",
    "    else:\n",
    "        rate = new / prev\n",
    "        if (rate > 2):\n",
    "            return \" - {:,.2f}x {}\".format(rate, \"slower\" if speed else \"more\")\n",
    "        else:\n",
    "            return \" - {:,.0%} {}\".format(rate-1, \"slower\" if speed else \"more\")\n",
    "\n",
    "def just_sql(sql):\n",
    "    c1 = connection.cursor()\n",
    "    c1.execute(sql)\n",
    "    result = c1.fetchall()[0][0]\n",
    "    c1.close()\n",
    "    return result  \n",
    "\n",
    "def query(sql, compare = False, dtypes = None):\n",
    "    global last_time, last_grefs, plans\n",
    "    \n",
    "    plans.append(just_sql(\"EXPLAIN \"+sql))\n",
    "    \n",
    "    start_grefs = just_sql(\"SELECT NYTaxi.GloRefs()\")\n",
    "    \n",
    "    start_time = time.time()\n",
    "    result = pd.read_sql_query(sql, connection, dtype = dtypes)\n",
    "    exec_time = time.time() - start_time\n",
    "    \n",
    "    exec_grefs = just_sql(\"SELECT NYTaxi.GloRefs()\") - start_grefs - 1\n",
    "    \n",
    "    if compare:\n",
    "        print(\"\\nExecution time: \"+str(round(exec_time,3))+\"s \" + brag(last_time, exec_time))\n",
    "        print(\"Global references: \"+str(exec_grefs)+\" \"+ brag(last_grefs, exec_grefs, False))\n",
    "        last_time = exec_time\n",
    "        last_grefs = exec_grefs\n",
    "    else:\n",
    "        print(\"\\nExecution time: \"+str(round(exec_time,3))+\"s \\nGlobal references: \"+str(exec_grefs))\n",
    "    \n",
    "    return result\n"
   ]
  },
  {
   "cell_type": "markdown",
   "id": "6410fc44-a934-4fc0-b5dc-74918c6393b0",
   "metadata": {},
   "source": [
    "## A first test to validate the connection"
   ]
  },
  {
   "cell_type": "code",
   "execution_count": 4,
   "id": "b5df9a27-9148-4d2c-842b-a09bcef1b839",
   "metadata": {},
   "outputs": [
    {
     "name": "stdout",
     "output_type": "stream",
     "text": [
      "\n",
      "Execution time: 1.257s \n",
      "Global references: 1248\n"
     ]
    },
    {
     "data": {
      "image/png": "[encoded data removed]",
      "text/plain": [
       "<Figure size 432x288 with 1 Axes>"
      ]
     },
     "metadata": {
      "needs_background": "light"
     },
     "output_type": "display_data"
    }
   ],
   "source": [
    "r = query(\"SELECT passenger_count AS pg, COUNT(*) AS agg \"+\n",
    "          \"FROM NYTaxi.Rides \"+\n",
    "          \"GROUP BY passenger_count\", dtypes = { 'agg': np.int64 })\n",
    "\n",
    "r.plot.barh(x='pg',y='agg',title=\"Rides by passenger count\");"
   ]
  },
  {
   "cell_type": "markdown",
   "id": "639c9390-8c33-4014-95a2-396e092551d6",
   "metadata": {},
   "source": [
    "## Adaptive Mode in SQL\n",
    "\n",
    "Adaptive Mode includes RunTime PlanChoice, which we can disable for the sake of the demo by using `#NORUNTIME`"
   ]
  },
  {
   "cell_type": "code",
   "execution_count": 5,
   "id": "e3af70f9-a429-4763-8166-44564c6ded31",
   "metadata": {},
   "outputs": [
    {
     "name": "stdout",
     "output_type": "stream",
     "text": [
      "\n",
      "Execution time: 121.384s \n",
      "Global references: 83184559 \n"
     ]
    }
   ],
   "source": [
    "r = query(\"SELECT %NORUNTIME AVG(total_amount) \"+\n",
    "             \"FROM NYTaxi.RowRides \"+\n",
    "             \"WHERE passenger_count > 3 \"+\n",
    "                   \"AND tpep_pickup_datetime BETWEEN '2020-01-01' AND '2021-12-31'\", True)"
   ]
  },
  {
   "cell_type": "markdown",
   "id": "57cf9b72-7d1a-49d7-9473-6fe9e969ee09",
   "metadata": {},
   "source": [
    "Luckily it's ON by default, so we can just leave out that hint and get great out-of-the-box performance."
   ]
  },
  {
   "cell_type": "code",
   "execution_count": 6,
   "id": "666ed909-35b1-40da-86b9-9d57ead5fba4",
   "metadata": {},
   "outputs": [
    {
     "name": "stdout",
     "output_type": "stream",
     "text": [
      "\n",
      "Execution time: 50.314s  - 2.41x faster\n",
      "Global references: 2417461  - 34.41x less\n"
     ]
    }
   ],
   "source": [
    "r = query(\"SELECT AVG(total_amount) \"+\n",
    "             \"FROM NYTaxi.RowRides \"+\n",
    "             \"WHERE passenger_count > 3 \"+\n",
    "                   \"AND tpep_pickup_datetime BETWEEN '2020-01-01' AND '2021-12-31'\", True)"
   ]
  },
  {
   "cell_type": "markdown",
   "id": "29b011cf-0965-4113-8c3f-be383e4e660d",
   "metadata": {},
   "source": [
    "The above speedup is realized by making proper use of advanced statistics collected by IRIS in 2022.1. In this particular case, we're relying on histograms that capture how our field values are distributed across rows. The chart below shows this information for the `tpep_pickup_datetime` field. \n",
    "As you'll note, almost all of the data is in our requested date range, so using the index on this supposedly selective field is not very helpful for this set of runtime parameters."
   ]
  },
  {
   "cell_type": "code",
   "execution_count": 7,
   "id": "7628c19f-9a79-4461-b23c-7c91e5e2827a",
   "metadata": {},
   "outputs": [
    {
     "name": "stdout",
     "output_type": "stream",
     "text": [
      "\n",
      "Execution time: 10.094s \n",
      "Global references: 4591\n"
     ]
    },
    {
     "data": {
      "image/png": "[encoded data removed]",
      "text/plain": [
       "<Figure size 432x288 with 1 Axes>"
      ]
     },
     "metadata": {
      "needs_background": "light"
     },
     "output_type": "display_data"
    }
   ],
   "source": [
    "r = query(\"SELECT MonthYear, SUM(sample) As RowCount FROM (select $PIECE(CAST(CAST(tpep_pickup_datetime AS POSIXTIME) AS VARCHAR),'-',1,2) AS MonthYear, 10000 AS sample FROM %PARALLEL NYTaxi.RowRides WHERE (%ID # 10000)=0) GROUP BY MonthYear\")\n",
    "r.plot.bar(x='MonthYear', y='RowCount');"
   ]
  },
  {
   "cell_type": "markdown",
   "id": "7946dd43-c74d-4d57-94eb-bd60c50b4812",
   "metadata": {},
   "source": [
    "# Columnar Storage\n",
    "\n",
    "Now let's run the very same query again, now targeting the columnar version of our table. \n",
    "Note the different table name in the `FROM` clause."
   ]
  },
  {
   "cell_type": "code",
   "execution_count": 8,
   "id": "43881773-fd10-4ebc-b394-2b660ccee335",
   "metadata": {},
   "outputs": [
    {
     "name": "stdout",
     "output_type": "stream",
     "text": [
      "\n",
      "Execution time: 2.52s \n",
      "Global references: 2015\n"
     ]
    }
   ],
   "source": [
    "r = query(\"SELECT AVG(total_amount) \"+\n",
    "             \"FROM NYTaxi.Rides \"+\n",
    "             \"WHERE passenger_count > 2 \"+\n",
    "                   \"AND tpep_pickup_datetime BETWEEN '2020-01-01' AND '2020-12-31'\")"
   ]
  },
  {
   "cell_type": "code",
   "execution_count": 9,
   "id": "c8069a57-4809-4e46-a86c-c627821e7e92",
   "metadata": {},
   "outputs": [
    {
     "name": "stdout",
     "output_type": "stream",
     "text": [
      "<plans>\n",
      " <plan>\n",
      " <sql>\n",
      "  SELECT AVG(total_amount) FROM NYTaxi.Rides WHERE passenger_count > 2 AND tpep_pickup_datetime BETWEEN '2020-01-01' AND '2020-12-31' /*#OPTIONS {\"xDBCIsoLevel\":\"0\"} */\n",
      " </sql>\n",
      " <cost value=\"\"/>\n",
      " Call module C.\n",
      " From each parallel process:\n",
      "     Accumulate the count([value]).\n",
      "     Accumulate the sum([value]).\n",
      " <module name=\"C\" top=\"1\">\n",
      " Partition extent bitmap NYTaxi.Rides.%%DDLBEIndex, and in parallel, for each partition, looping on bitmap chunks.\n",
      " For each bitmap chunk:\n",
      "     Read columnar index NYTaxi.Rides._CDM_tpeppickupdatetime, using the given chunk number.\n",
      "     Apply vector and bitmap operations >=, <=, and & to produce a filter.\n",
      "     Read columnar index NYTaxi.Rides._CDM_passengercount, using the given chunk number.\n",
      "     Apply vector and bitmap operations >, &, defined, and & to produce a filter.\n",
      "     Read columnar index NYTaxi.Rides._CDM_totalamount, using the given chunk number.\n",
      "     Apply vector operations sum and count.\n",
      "     Accumulate the sum([value]).\n",
      "     Accumulate the count([value]).\n",
      " </module>\n",
      " </plan>\n",
      "</plans>\n"
     ]
    }
   ],
   "source": [
    "print(plans[-1])"
   ]
  },
  {
   "cell_type": "markdown",
   "id": "a5ecb843-f1a0-4055-86b5-000de69dc265",
   "metadata": {},
   "source": [
    "That was just to show off, now let's look at some more decent examples"
   ]
  },
  {
   "cell_type": "markdown",
   "id": "cad1c3ef-2102-4133-aa9b-902d36d111af",
   "metadata": {},
   "source": [
    "This query shows how far along we got in teaching the IRIS SQL engine to work with columnar storage. There's groupings, aggregates, order by and an outer JOIN!"
   ]
  },
  {
   "cell_type": "code",
   "execution_count": 18,
   "id": "8b73556d-7953-45ee-8e70-052c1ce7a329",
   "metadata": {},
   "outputs": [
    {
     "name": "stdout",
     "output_type": "stream",
     "text": [
      "\n",
      "Execution time: 29.582s \n",
      "Global references: 39649218\n"
     ]
    },
    {
     "data": {
      "image/png": "[encoded data removed]",
      "text/plain": [
       "<Figure size 432x288 with 1 Axes>"
      ]
     },
     "metadata": {
      "needs_background": "light"
     },
     "output_type": "display_data"
    }
   ],
   "source": [
    "reset_compare()\n",
    "r = query(\"SELECT Zone, Borough, Tip FROM (\"+\n",
    "              \"SELECT TOP 10 PULocationID, AVG(tip_amount / fare_amount) AS Tip \"+\n",
    "              \"FROM NYTaxi.RowRides \"+\n",
    "              \"WHERE fare_amount > 0 \"+\n",
    "              \"GROUP BY PULocationID \"+\n",
    "              \"ORDER BY 2 DESC\"+\n",
    "          \") r LEFT JOIN NYTaxi.Zones z ON r.PULocationID = z.LocationID\", \n",
    "          dtypes = { \"Tip\": np.double })\n",
    "\n",
    "r.plot.barh(x=\"Zone\", y=\"Tip\", title=\"Average tip by pickup zone\");"
   ]
  },
  {
   "cell_type": "code",
   "execution_count": 19,
   "id": "8990649a-a267-46b1-94dd-c4a04ddeb043",
   "metadata": {},
   "outputs": [
    {
     "name": "stdout",
     "output_type": "stream",
     "text": [
      "\n",
      "Execution time: 3.478s \n",
      "Global references: 2499\n"
     ]
    },
    {
     "data": {
      "image/png": "[encoded data removed]",
      "text/plain": [
       "<Figure size 432x288 with 1 Axes>"
      ]
     },
     "metadata": {
      "needs_background": "light"
     },
     "output_type": "display_data"
    }
   ],
   "source": [
    "r = query(\"SELECT Zone, Borough, Tip FROM (\"+\n",
    "              \"SELECT TOP 10 PULocationID, AVG(tip_amount / fare_amount) Tip \"+\n",
    "              \"FROM NYTaxi.Rides \"+\n",
    "              \"WHERE fare_amount > 0 \"+\n",
    "              \"GROUP BY PULocationID \"+\n",
    "              \"ORDER BY 2 DESC\"+\n",
    "          \") r LEFT JOIN NYTaxi.Zones z ON r.PULocationID = z.LocationID\", \n",
    "          dtypes = { \"Tip\": np.double })\n",
    "\n",
    "r.plot.barh(x=\"Zone\", y=\"Tip\", title=\"Average tip by pickup zone\");"
   ]
  },
  {
   "cell_type": "code",
   "execution_count": 12,
   "id": "01428cbd-7f05-4ac8-82b0-c96f7e324d4a",
   "metadata": {},
   "outputs": [
    {
     "name": "stdout",
     "output_type": "stream",
     "text": [
      "<plans>\n",
      " <plan>\n",
      " <sql>\n",
      "  SELECT Zone, Borough, Tip FROM (SELECT TOP 10 PULocationID, AVG(tip_amount / fare_amount) Tip FROM NYTaxi.Rides WHERE fare_amount > 0 GROUP BY PULocationID ORDER BY 2 DESC) r LEFT JOIN NYTaxi.Zones z ON r.PULocationID = z.LocationID /*#OPTIONS {\"xDBCIsoLevel\":\"0\"} */\n",
      " </sql>\n",
      " <cost value=\"22832\"/>\n",
      " Call module H.\n",
      " From each parallel process:\n",
      "     Check distinct values for PULocationID using temp-file A,\n",
      "         subscripted by PULocationID.\n",
      "     For each distinct row:\n",
      "         Add a row to temp-file A, subscripted by PULocationID,\n",
      "             with no node data.\n",
      "     Update the accumulated count([value]) in temp-file A,\n",
      "         subscripted by PULocationID\n",
      "     Update the accumulated sum([value]) in temp-file A,\n",
      "         subscripted by PULocationID\n",
      " <module name=\"H\" top=\"1\">\n",
      " Call module I.\n",
      " Read array temp-file C, looping on PULocationID.\n",
      " For each row:\n",
      "     Read array temp-file D, using the given subscript values.\n",
      "     Read array temp-file E, using the given subscript values.\n",
      " </module>\n",
      " <module name=\"I\" top=\"1\">\n",
      " Partition extent bitmap NYTaxi.Rides.%%DDLBEIndex, and in parallel, for each partition, looping on bitmap chunks.\n",
      " For each bitmap chunk:\n",
      "     Read columnar index NYTaxi.Rides._CDM_fareamount, using the given chunk number.\n",
      "     Apply vector operation > to produce a filter.\n",
      "     Read columnar index NYTaxi.Rides._CDM_PULocationID, using the given chunk number.\n",
      "     Read columnar index NYTaxi.Rides._CDM_tipamount, using the given chunk number.\n",
      "     Apply vector operations mask, v/, and sumg to populate array temp-file D, subscripted by [value] with node data of SUM([value]).\n",
      "     Apply vector operation countg to populate array temp-file E, subscripted by [value] with node data of COUNT([value]).\n",
      "     Apply vector operation groupg to populate array temp-file C, subscripted by [value].\n",
      " </module>\n",
      " </plan>\n",
      "</plans>\n"
     ]
    }
   ],
   "source": [
    "print(plans[-1])"
   ]
  },
  {
   "cell_type": "markdown",
   "id": "93bcd09a-a075-4057-86c0-0a1695b6ee69",
   "metadata": {},
   "source": [
    "The following query does some basic data quality style checking and would make sense to someone evaluating the data, but not at all be something your DBA would create an index for. It's an illustration of the _conversation_ you can have with big tables thanks to columnar storage."
   ]
  },
  {
   "cell_type": "code",
   "execution_count": 13,
   "id": "8060445a-05f8-4a62-ab3b-ca50d4caad8f",
   "metadata": {},
   "outputs": [
    {
     "name": "stdout",
     "output_type": "stream",
     "text": [
      "\n",
      "Execution time: 29.168s \n",
      "Global references: 39649206\n"
     ]
    },
    {
     "data": {
      "text/html": [
       "<div>\n",
       "<style scoped>\n",
       "    .dataframe tbody tr th:only-of-type {\n",
       "        vertical-align: middle;\n",
       "    }\n",
       "\n",
       "    .dataframe tbody tr th {\n",
       "        vertical-align: top;\n",
       "    }\n",
       "\n",
       "    .dataframe thead th {\n",
       "        text-align: right;\n",
       "    }\n",
       "</style>\n",
       "<table border=\"1\" class=\"dataframe\">\n",
       "  <thead>\n",
       "    <tr style=\"text-align: right;\">\n",
       "      <th></th>\n",
       "      <th>TimeTravel</th>\n",
       "    </tr>\n",
       "  </thead>\n",
       "  <tbody>\n",
       "    <tr>\n",
       "      <th>0</th>\n",
       "      <td>48290</td>\n",
       "    </tr>\n",
       "  </tbody>\n",
       "</table>\n",
       "</div>"
      ],
      "text/plain": [
       "   TimeTravel\n",
       "0       48290"
      ]
     },
     "execution_count": 13,
     "metadata": {},
     "output_type": "execute_result"
    }
   ],
   "source": [
    "reset_compare()\n",
    "query(\"SELECT COUNT(*) AS TimeTravel \"+\n",
    "      \"FROM NYTaxi.RowRides \"+\n",
    "      \"WHERE tpep_pickup_datetime > tpep_dropoff_datetime\")"
   ]
  },
  {
   "cell_type": "code",
   "execution_count": 14,
   "id": "6c8d8dea-ff3b-4ed2-b321-7336fb25d8b7",
   "metadata": {},
   "outputs": [
    {
     "name": "stdout",
     "output_type": "stream",
     "text": [
      "\n",
      "Execution time: 2.571s \n",
      "Global references: 1867\n"
     ]
    },
    {
     "data": {
      "text/html": [
       "<div>\n",
       "<style scoped>\n",
       "    .dataframe tbody tr th:only-of-type {\n",
       "        vertical-align: middle;\n",
       "    }\n",
       "\n",
       "    .dataframe tbody tr th {\n",
       "        vertical-align: top;\n",
       "    }\n",
       "\n",
       "    .dataframe thead th {\n",
       "        text-align: right;\n",
       "    }\n",
       "</style>\n",
       "<table border=\"1\" class=\"dataframe\">\n",
       "  <thead>\n",
       "    <tr style=\"text-align: right;\">\n",
       "      <th></th>\n",
       "      <th>TimeTravel</th>\n",
       "    </tr>\n",
       "  </thead>\n",
       "  <tbody>\n",
       "    <tr>\n",
       "      <th>0</th>\n",
       "      <td>48538</td>\n",
       "    </tr>\n",
       "  </tbody>\n",
       "</table>\n",
       "</div>"
      ],
      "text/plain": [
       "   TimeTravel\n",
       "0       48538"
      ]
     },
     "execution_count": 14,
     "metadata": {},
     "output_type": "execute_result"
    }
   ],
   "source": [
    "query(\"SELECT COUNT(*) AS TimeTravel \"+\n",
    "      \"FROM NYTaxi.Rides \"+\n",
    "      \"WHERE tpep_pickup_datetime > tpep_dropoff_datetime\")"
   ]
  },
  {
   "cell_type": "markdown",
   "id": "627b848b-9e18-4af5-9f16-e167396e9226",
   "metadata": {},
   "source": [
    "And now it's time to boast with some more spectacular differences"
   ]
  },
  {
   "cell_type": "code",
   "execution_count": 20,
   "id": "e7fca786-ad26-41ad-ae04-e30e598787fa",
   "metadata": {},
   "outputs": [
    {
     "name": "stdout",
     "output_type": "stream",
     "text": [
      "\n",
      "Execution time: 26.062s \n",
      "Global references: 39649199\n"
     ]
    },
    {
     "data": {
      "image/png": "[encoded data removed]",
      "text/plain": [
       "<Figure size 432x288 with 1 Axes>"
      ]
     },
     "metadata": {
      "needs_background": "light"
     },
     "output_type": "display_data"
    }
   ],
   "source": [
    "reset_compare()\n",
    "r = query(\"SELECT AVG(fare_amount), AVG(tip_amount) \"+\n",
    "          \"FROM NYTaxi.RowRides \"+\n",
    "          \"WHERE payment_type = 1\")\n",
    "\n",
    "r.plot.bar(stacked=True, title=\"Average fare vs tip\");"
   ]
  },
  {
   "cell_type": "code",
   "execution_count": 22,
   "id": "245d4468-0568-45d1-8062-0a6e6d407b57",
   "metadata": {},
   "outputs": [
    {
     "name": "stdout",
     "output_type": "stream",
     "text": [
      "\n",
      "Execution time: 0.178s \n",
      "Global references: 2464\n"
     ]
    },
    {
     "data": {
      "image/png": "[encoded data removed]",
      "text/plain": [
       "<Figure size 432x288 with 1 Axes>"
      ]
     },
     "metadata": {
      "needs_background": "light"
     },
     "output_type": "display_data"
    }
   ],
   "source": [
    "r = query(\"SELECT AVG(fare_amount) AS \\\"Average fare\\\", AVG(tip_amount) AS \\\"Average tip\\\" \"+\n",
    "          \"FROM NYTaxi.Rides \"+\n",
    "          \"WHERE payment_type = 1\")\n",
    "\n",
    "r.plot.bar(stacked=True, title=\"Average fare vs tip\");"
   ]
  },
  {
   "cell_type": "code",
   "execution_count": null,
   "id": "08329368-d433-4847-825f-d37ae5fe7c77",
   "metadata": {},
   "outputs": [],
   "source": []
  }
 ],
 "metadata": {
  "kernelspec": {
   "display_name": "Python 3 (ipykernel)",
   "language": "python",
   "name": "python3"
  },
  "language_info": {
   "codemirror_mode": {
    "name": "ipython",
    "version": 3
   },
   "file_extension": ".py",
   "mimetype": "text/x-python",
   "name": "python",
   "nbconvert_exporter": "python",
   "pygments_lexer": "ipython3",
   "version": "3.9.0"
  }
 },
 "nbformat": 4,
 "nbformat_minor": 5
}
