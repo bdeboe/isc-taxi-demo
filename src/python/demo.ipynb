{
 "cells": [
  {
   "cell_type": "markdown",
   "id": "dc090d83-4c3c-44fe-a379-ff28012bad4c",
   "metadata": {},
   "source": [
    "# Yet Another NY Taxi demo\n",
    "\n",
    "In this notebook, we'll set up a connection to IRIS and walk through a few exciting query results"
   ]
  },
  {
   "cell_type": "code",
   "execution_count": 1,
   "id": "9dce9035-8712-465b-a0cf-469adfdad443",
   "metadata": {},
   "outputs": [],
   "source": [
    "import iris, time\n",
    "import pandas as pd\n",
    "\n",
    "connection = iris.connect(\"localhost:51789/NYTAXI\", \"_SYSTEM\", \"SYS\")"
   ]
  },
  {
   "cell_type": "markdown",
   "id": "eb9de0e3-c40b-449d-b178-98586af06c43",
   "metadata": {},
   "source": [
    "The following paragraph just suppresses usage warnings for pandas preferring SQLAlchemy over DB-API "
   ]
  },
  {
   "cell_type": "code",
   "execution_count": 2,
   "id": "ce7dd715-e562-480e-84c1-e8c63a1d3156",
   "metadata": {},
   "outputs": [],
   "source": [
    "import warnings\n",
    "\n",
    "# disable usage warning for pandas / DB-API\n",
    "warnings.simplefilter(\"ignore\")"
   ]
  },
  {
   "cell_type": "markdown",
   "id": "749cf9d9-2ac1-4aea-a369-1555bb6cbe76",
   "metadata": {},
   "source": [
    "Now we'll set up a few utility functions we'll be using throughout the demo"
   ]
  },
  {
   "cell_type": "code",
   "execution_count": 3,
   "id": "f4077d78-f77d-4ff0-9b85-5d83e676f297",
   "metadata": {},
   "outputs": [],
   "source": [
    "last_time = 0\n",
    "last_grefs = 0\n",
    "\n",
    "def brag(prev, new, speed=True):\n",
    "    if ((prev == 0) or (new == 0) or (prev == new)):\n",
    "        return \"\"\n",
    "    if (prev > new):\n",
    "        rate = prev / new\n",
    "        s = \"faster\" if speed else \"less\"\n",
    "        if (rate > 2):\n",
    "            return \" - \"+str(round(rate,2))+\"x \"+s\n",
    "        else:\n",
    "            return \" - \"+str(round(rate*100-100,0))+\"% \"+s\n",
    "    else:\n",
    "        rate = new / prev\n",
    "        s = \"slower\" if speed else \"more\"\n",
    "        if (rate > 2):\n",
    "            return \" - \"+str(round(rate,2))+\"x \"+s\n",
    "        else:\n",
    "            return \" - \"+str(round(rate*100-100,0))+\"% \"+s\n",
    "        \n",
    "\n",
    "def query(sql, compare = False):\n",
    "    global last_time, last_grefs\n",
    "    c1 = connection.cursor()\n",
    "    c1.execute(\"SELECT NYTaxi.GloRefs()\")\n",
    "    start_grefs = c1.fetchall()[0][0]\n",
    "    \n",
    "    start_time = time.time()\n",
    "    result = pd.read_sql(sql, connection)\n",
    "    exec_time = time.time() - start_time\n",
    "    \n",
    "    c1.execute(\"SELECT NYTaxi.GloRefs()\")\n",
    "    exec_grefs = c1.fetchall()[0][0] - start_grefs - 1\n",
    "    \n",
    "    if compare:\n",
    "        print(\"\\nExecution time: \"+str(round(exec_time,3))+\"s \" + brag(last_time, exec_time))\n",
    "        print(\"Global references: \"+str(exec_grefs)+\" \"+ brag(last_grefs, exec_grefs, False))\n",
    "        last_time = exec_time\n",
    "        last_grefs = exec_grefs\n",
    "    else:\n",
    "        print(\"\\nExecution time: \"+str(round(exec_time,3))+\"s \\nGlobal references: \"+str(exec_grefs))\n",
    "    return result\n",
    "\n",
    "\n",
    "def reset_compare(sql, compare = False):\n",
    "    global last_time, last_grefs\n",
    "    last_time = 0\n",
    "    last_grefs = 0"
   ]
  },
  {
   "cell_type": "markdown",
   "id": "6410fc44-a934-4fc0-b5dc-74918c6393b0",
   "metadata": {},
   "source": [
    "## A first test to validate the connection"
   ]
  },
  {
   "cell_type": "code",
   "execution_count": 4,
   "id": "b5df9a27-9148-4d2c-842b-a09bcef1b839",
   "metadata": {},
   "outputs": [
    {
     "name": "stdout",
     "output_type": "stream",
     "text": [
      "\n",
      "Execution time: 1.223s \n",
      "Global references: 1248\n"
     ]
    },
    {
     "data": {
      "text/plain": [
       "<AxesSubplot:title={'center':'Query results'}, ylabel='pg'>"
      ]
     },
     "execution_count": 4,
     "metadata": {},
     "output_type": "execute_result"
    },
    {
     "data": {
      "image/png": "[encoded data removed]",
      "text/plain": [
       "<Figure size 432x288 with 1 Axes>"
      ]
     },
     "metadata": {
      "needs_background": "light"
     },
     "output_type": "display_data"
    }
   ],
   "source": [
    "r = query(\"SELECT passenger_count AS pg, COUNT(*) AS agg FROM NYTaxi.Rides GROUP BY passenger_count\")\n",
    "r.plot.barh(x='pg',y='agg',title=\"Query results\")"
   ]
  },
  {
   "cell_type": "markdown",
   "id": "639c9390-8c33-4014-95a2-396e092551d6",
   "metadata": {},
   "source": [
    "## Adaptive Mode in SQL\n",
    "\n",
    "Adaptive Mode includes RunTime PlanChoice, which we can disable for the sake of the demo by using `#NORUNTIME`"
   ]
  },
  {
   "cell_type": "code",
   "execution_count": null,
   "id": "e3af70f9-a429-4763-8166-44564c6ded31",
   "metadata": {},
   "outputs": [],
   "source": [
    "r = query(\"SELECT %NORUNTIME AVG(total_amount) \"+\n",
    "             \"FROM NYTaxi.RowRides \"+\n",
    "             \"WHERE passenger_count > 2 AND tpep_pickup_datetime BETWEEN '2020-01-01' AND '2021-12-31'\", True)"
   ]
  },
  {
   "cell_type": "code",
   "execution_count": null,
   "id": "666ed909-35b1-40da-86b9-9d57ead5fba4",
   "metadata": {},
   "outputs": [],
   "source": [
    "r = query(\"SELECT AVG(total_amount) \"+\n",
    "             \"FROM NYTaxi.RowRides \"+\n",
    "             \"WHERE passenger_count > 2 AND tpep_pickup_datetime BETWEEN '2020-01-01' AND '2021-12-31'\", True)"
   ]
  },
  {
   "cell_type": "markdown",
   "id": "29b011cf-0965-4113-8c3f-be383e4e660d",
   "metadata": {},
   "source": [
    "The above speedup is realized by making proper use of advanced statistics collected by IRIS in 2022.1. In this particular case, we're relying on histograms that capture how our field values are distributed across rows. The chart below shows this information for the `tpep_pickup_datetime` field."
   ]
  },
  {
   "cell_type": "code",
   "execution_count": null,
   "id": "7628c19f-9a79-4461-b23c-7c91e5e2827a",
   "metadata": {},
   "outputs": [],
   "source": [
    "r = query(\"SELECT BUCKET_POSITION, PERCENTILE, CAST((VALUE+1) AS POSIXTIME) AS VALUE \"+\n",
    "          \"FROM INFORMATION_SCHEMA.COLUMN_HISTOGRAMS \"+\n",
    "          \"WHERE TABLE_SCHEMA = 'NYTaxi' AND TABLE_NAME = 'RowRides' AND COLUMN_NAME = 'tpep_pickup_datetime'\")\n",
    "r.plot.bar(x='VALUE', y='PERCENTILE')"
   ]
  },
  {
   "cell_type": "markdown",
   "id": "7946dd43-c74d-4d57-94eb-bd60c50b4812",
   "metadata": {},
   "source": [
    "# Columnar Storage\n",
    "\n",
    "Now let's run the very same query again, now targeting the columnar version of our table. \n",
    "Note the different table name in the `FROM` clause."
   ]
  },
  {
   "cell_type": "code",
   "execution_count": null,
   "id": "43881773-fd10-4ebc-b394-2b660ccee335",
   "metadata": {},
   "outputs": [],
   "source": [
    "r = query(\"SELECT %NORUNTIME AVG(total_amount) \"+\n",
    "             \"FROM NYTaxi.Rides \"+\n",
    "             \"WHERE passenger_count > 2 AND tpep_pickup_datetime BETWEEN '2020-01-01' AND '2021-12-31'\", True)"
   ]
  },
  {
   "cell_type": "markdown",
   "id": "a5ecb843-f1a0-4055-86b5-000de69dc265",
   "metadata": {},
   "source": [
    "That was just to show off, now let's look at some more decent examples"
   ]
  },
  {
   "cell_type": "markdown",
   "id": "e7b99505-e0b1-42db-be87-09693f2b4090",
   "metadata": {},
   "source": []
  }
 ],
 "metadata": {
  "kernelspec": {
   "display_name": "Python 3 (ipykernel)",
   "language": "python",
   "name": "python3"
  },
  "language_info": {
   "codemirror_mode": {
    "name": "ipython",
    "version": 3
   },
   "file_extension": ".py",
   "mimetype": "text/x-python",
   "name": "python",
   "nbconvert_exporter": "python",
   "pygments_lexer": "ipython3",
   "version": "3.9.0"
  }
 },
 "nbformat": 4,
 "nbformat_minor": 5
}
