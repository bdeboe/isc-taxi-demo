{
 "cells": [
  {
   "attachments": {},
   "cell_type": "markdown",
   "id": "0601de5c-5ed4-4f30-99bc-dc7ac792021c",
   "metadata": {},
   "source": [
    "# Global Summit 2022 - Tech Exchange demo\n",
    "\n",
    "This notebook shows a few more queries run against a 1B row dataset on a beefy server in our Cambridge, MA headquarters. Most of these correspond to the ones in the additional demo presented by Tom Woodfin at the Tech Exchange on Thursday afternoon at Global Summit 2022. The point of these is that they help you appreciate how the high performance for analytical queries brought by Columnar Storage enables users to have an almost interactive conversation with the data, without having to wait minutes between hitting the Run button and seeing a result.\n",
    "\n",
    "_This notebook is included in fully rendered form for informational purposes only. The connection info is not wired to environment variables as with the other notebooks._"
   ]
  },
  {
   "cell_type": "code",
   "execution_count": 1,
   "id": "41849903-b68b-44b3-aede-d43c96d2a362",
   "metadata": {
    "jupyter": {
     "source_hidden": true
    },
    "tags": []
   },
   "outputs": [],
   "source": [
    "# dull imports and utility methods - you can skip right through!\n",
    "\n",
    "import iris, time\n",
    "import pandas as pd\n",
    "import numpy as np\n",
    "import matplotlib.pyplot as plt\n",
    "\n",
    "connection = iris.connect(\"colobench3:51779/NYTAXI1B\", \"_SYSTEM\", \"SYS\")\n",
    "\n",
    "import warnings\n",
    "warnings.simplefilter(\"ignore\")\n",
    "\n",
    "# utility vars and function to compare metrics\n",
    "history = { \"time\": {}, \"grefs\": {}, \"logical\": {}, \"physical\": {} }\n",
    "plans = []\n",
    "\n",
    "def reset_compare():\n",
    "    global history\n",
    "    history = { \"time\": {}, \"grefs\": {}, \"logical\": {}, \"physical\": {} }\n",
    "\n",
    "def brag(prev, new, speed=True):\n",
    "    if ((prev == 0) or (new == 0) or (prev == new)):\n",
    "        return \"\"\n",
    "    if (prev > new):\n",
    "        rate = prev / new\n",
    "        if (rate > 20):\n",
    "            return \" - {:,.0f}x {}\".format(rate, \"faster\" if speed else \"less\")\n",
    "        elif (rate > 2):\n",
    "            return \" - {:,.2f}x {}\".format(rate, \"faster\" if speed else \"less\")\n",
    "        else:\n",
    "            return \" - {:,.0%} {}\".format(rate-1, \"faster\" if speed else \"less\")\n",
    "    else:\n",
    "        rate = new / prev\n",
    "        if (rate > 20):\n",
    "            return \" - {:,.0f}x {}\".format(rate, \"slower\" if speed else \"more\")\n",
    "        elif (rate > 2):\n",
    "            return \" - {:,.2f}x {}\".format(rate, \"slower\" if speed else \"more\")\n",
    "        else:\n",
    "            return \" - {:,.0%} {}\".format(rate-1, \"slower\" if speed else \"more\")\n",
    "        \n",
    "def just_sql(sql):\n",
    "    c1 = connection.cursor()\n",
    "    c1.execute(sql)\n",
    "    result = c1.fetchall()[0]\n",
    "    c1.close()\n",
    "    return result\n",
    "\n",
    "def run_often(sql, times=10):\n",
    "    for i in range(times):\n",
    "        x = just_sql(sql)\n",
    "\n",
    "def query(sql, compare = None, dtypes = None):\n",
    "    global plans, history\n",
    "    \n",
    "    plans.append(just_sql(\"EXPLAIN \"+sql)[0])\n",
    "    \n",
    "    start_grefs, start_logical, start_physical = just_sql(\"SELECT NYTaxi.GloRefs(), NYTaxi.LogicalBytes(), NYTaxi.PhysicalBytes()\")\n",
    "    \n",
    "    start_time = time.time()\n",
    "    result = pd.read_sql_query(sql, connection, dtype = dtypes)\n",
    "    exec_time = time.time() - start_time\n",
    "    \n",
    "    end_grefs, end_logical, end_physical = just_sql(\"SELECT NYTaxi.GloRefs(), NYTaxi.LogicalBytes(), NYTaxi.PhysicalBytes()\")\n",
    "    exec_grefs = end_grefs - start_grefs - 1\n",
    "    exec_logical = end_logical - start_logical\n",
    "    exec_physical = end_physical - start_physical\n",
    "    \n",
    "    print(\"\\nExecution time: {:.3f}s\\nGlobal references: {:,}\\nBytes read: {:,} kB ({:,} kB physical)\".format(exec_time, exec_grefs, exec_logical, exec_physical))\n",
    "    # print(\"\\nExecution time: {:.3f}s\\nGlobal references: {:,}\".format(exec_time, exec_grefs, exec_logical, exec_physical))\n",
    "    \n",
    "    if compare is not None:\n",
    "        #print(\"\\nExecution time: {:.3f}s \".format(exec_time) + brag(last_time, exec_time))\n",
    "        #print(\"Global references: {:,} \".format(exec_grefs) + brag(last_grefs, exec_grefs, False))\n",
    "        history['time'][compare] = exec_time\n",
    "        history['grefs'][compare] = exec_grefs\n",
    "        history['logical'][compare] = exec_logical\n",
    "        history['physical'][compare] = exec_physical\n",
    "        #if len(history['time'].keys())>=2:\n",
    "        #    plot_compare()\n",
    "    \n",
    "    return result\n",
    "\n",
    "def plot_compare():\n",
    "    global history\n",
    "    fig, (ax1, ax2, ax3) = plt.subplots(1, 3, figsize=(10,5))\n",
    "    fig.suptitle('Query Performance Comparison', y=1.05, size=15)\n",
    "\n",
    "    b1 = ax1.bar(history['time'].keys(), history['time'].values(), color=['tab:blue','tab:orange','tab:green'])\n",
    "    ax1.set_title(\"Execution time\", pad=10)\n",
    "    ax1.bar_label(b1, fmt='%.2fs')\n",
    "    ax1.set_ylim(top=(max(history['time'].values())*1.1))\n",
    "    v1 = list(history['time'].values())\n",
    "    if len(v1)==3:\n",
    "        ax1.annotate(brag(v1[0],v1[1])[3:].replace(' ','\\n'), \n",
    "                     (0.5, 0.7), xycoords='axes fraction',\n",
    "                     ha='center', va=\"bottom\")\n",
    "        ax1.annotate(brag(v1[1],v1[2])[3:].replace(' ','\\n'), \n",
    "                     (0.84, 0.4), xycoords='axes fraction',\n",
    "                     ha='center', va=\"bottom\", \n",
    "                     size=15, fontweight=\"bold\")\n",
    "    else:\n",
    "        ax1.annotate(brag(v1[len(v1)-2],v1[len(v1)-1])[3:].replace(' ','\\n'), \n",
    "                     (0.75, 0.5), xycoords='axes fraction',\n",
    "                     ha='center', va=\"bottom\", \n",
    "                     size=15, fontweight=\"bold\")\n",
    "\n",
    "    b2 = ax2.bar(history['grefs'].keys(), history['grefs'].values(), color=['tab:blue','tab:orange','tab:green'])\n",
    "    ax2.set_title(\"IO (grefs)\", pad=10)\n",
    "    ax2.bar_label(b2, fmt='%d')\n",
    "    ax2.set_ylim(top=(max(history['grefs'].values())*1.1))\n",
    "    v2 = list(history['grefs'].values())\n",
    "    if len(v2)==3:\n",
    "        ax2.annotate(brag(v2[0],v2[1],False)[3:].replace(' ','\\n'), \n",
    "                     (0.5, 0.7), xycoords='axes fraction',\n",
    "                     ha='center', va=\"bottom\")\n",
    "        ax2.annotate(brag(v2[1],v2[2],False)[3:].replace(' ','\\n'), \n",
    "                     (0.84, 0.4), xycoords='axes fraction',\n",
    "                     ha='center', va='bottom',\n",
    "                     size=15, fontweight=\"bold\")\n",
    "    else:\n",
    "        ax2.annotate(brag(v2[len(v2)-2],v2[len(v2)-1],False)[3:].replace(' ','\\n'), \n",
    "                     (0.75, 0.5), xycoords='axes fraction',\n",
    "                     ha='center', va='bottom',\n",
    "                     size=15, fontweight=\"bold\")\n",
    "    \n",
    "    b3 = ax3.bar(history['logical'].keys(), history['logical'].values(), color=['tab:blue','tab:orange','tab:green'])\n",
    "    ax3.set_title(\"Logical reads\", pad=10)\n",
    "    ax3.bar_label(b3, fmt='%d kB')\n",
    "    ax3.set_ylim(top=(max(history['logical'].values())*1.1))\n",
    "    v3 = list(history['logical'].values())\n",
    "    if len(v3)==3:\n",
    "        ax3.annotate(brag(v3[0],v3[1],False)[3:].replace(' ','\\n'), \n",
    "                     (0.5, 0.7), xycoords='axes fraction',\n",
    "                     ha='center', va=\"bottom\")\n",
    "        ax3.annotate(brag(v3[1],v3[2],False)[3:].replace(' ','\\n'), \n",
    "                     (0.84, 0.4), xycoords='axes fraction',\n",
    "                     ha='center', va='bottom',\n",
    "                     size=15, fontweight=\"bold\")\n",
    "    else:\n",
    "        ax3.annotate(brag(v3[len(v3)-2],v3[len(v3)-1],False)[3:].replace(' ','\\n'), \n",
    "                     (0.75, 0.5), xycoords='axes fraction',\n",
    "                     ha='center', va='bottom',\n",
    "                     size=15, fontweight=\"bold\")"
   ]
  },
  {
   "cell_type": "markdown",
   "id": "213b1cbb",
   "metadata": {},
   "source": [
    "## Time to scale up to 1B!\n",
    "\n",
    "```sql\n",
    "SELECT COUNT(*) FROM NYTaxi\n",
    "```"
   ]
  },
  {
   "cell_type": "code",
   "execution_count": 2,
   "id": "d4de2ca7-a65d-4af4-a03c-e0fc3321de6b",
   "metadata": {},
   "outputs": [
    {
     "name": "stdout",
     "output_type": "stream",
     "text": [
      "\n",
      "Execution time: 0.375s\n",
      "Global references: 17,856\n",
      "Bytes read: 36,936 kB (400 kB physical)\n"
     ]
    },
    {
     "data": {
      "text/html": [
       "<div>\n",
       "<style scoped>\n",
       "    .dataframe tbody tr th:only-of-type {\n",
       "        vertical-align: middle;\n",
       "    }\n",
       "\n",
       "    .dataframe tbody tr th {\n",
       "        vertical-align: top;\n",
       "    }\n",
       "\n",
       "    .dataframe thead th {\n",
       "        text-align: right;\n",
       "    }\n",
       "</style>\n",
       "<table border=\"1\" class=\"dataframe\">\n",
       "  <thead>\n",
       "    <tr style=\"text-align: right;\">\n",
       "      <th></th>\n",
       "      <th>Aggregate_1</th>\n",
       "    </tr>\n",
       "  </thead>\n",
       "  <tbody>\n",
       "    <tr>\n",
       "      <th>0</th>\n",
       "      <td>1142317520</td>\n",
       "    </tr>\n",
       "  </tbody>\n",
       "</table>\n",
       "</div>"
      ],
      "text/plain": [
       "   Aggregate_1\n",
       "0   1142317520"
      ]
     },
     "execution_count": 2,
     "metadata": {},
     "output_type": "execute_result"
    }
   ],
   "source": [
    "query(\"SELECT COUNT(*) FROM NYTaxi\")"
   ]
  },
  {
   "cell_type": "markdown",
   "id": "3daef544",
   "metadata": {},
   "source": [
    "## That more complex query\n",
    "\n",
    "```sql\n",
    "SELECT Zone, Borough, Tip \n",
    "  FROM (\n",
    "        SELECT TOP 10 PULocationID, AVG(tip_amount / fare_amount) AS Tip\n",
    "          FROM NYTaxi.Rides24M\n",
    "         WHERE fare_amount > 0\n",
    "      GROUP BY PULocationID\n",
    "      ORDER BY 2 DESC\n",
    "        ) r \n",
    "        LEFT OUTER JOIN NYTaxi.Zones z ON r.PULocationID = z.LocationID\n",
    "```"
   ]
  },
  {
   "cell_type": "code",
   "execution_count": 3,
   "id": "6e888854",
   "metadata": {},
   "outputs": [
    {
     "name": "stdout",
     "output_type": "stream",
     "text": [
      "\n",
      "Execution time: 15.233s\n",
      "Global references: 71,723\n",
      "Bytes read: 21,686,752 kB (20,961,128 kB physical)\n"
     ]
    },
    {
     "data": {
      "image/png": "[encoded data removed]",
      "text/plain": [
       "<Figure size 432x288 with 1 Axes>"
      ]
     },
     "metadata": {
      "needs_background": "light"
     },
     "output_type": "display_data"
    }
   ],
   "source": [
    "r = query(\"SELECT Zone, Borough, Tip FROM (SELECT TOP 10 PULocationID, AVG(tip_amount / fare_amount) AS Tip FROM %PARALLEL NYTaxi WHERE fare_amount > 0 GROUP BY PULocationID ORDER BY 2 DESC) r LEFT JOIN NYTaxi.Zones z ON r.PULocationID = z.LocationID\", dtypes = { \"Tip\": np.double }, compare=\"row\")\n",
    "r.plot.barh(x=\"Zone\", y=\"Tip\", title=\"Average tip by pickup zone\");"
   ]
  },
  {
   "cell_type": "markdown",
   "id": "312197d5-c423-4de9-9d2f-b659538c9f1c",
   "metadata": {},
   "source": [
    "## Short trips in Soho\n",
    "\n",
    "```sql\n",
    " SELECT AVG(tip_amount) \n",
    "   FROM NYTaxi \n",
    "  WHERE passenger_count > 1 \n",
    "        AND trip_distance < 1 \n",
    "        AND PULocationId = (SELECT LocationId \n",
    "                              FROM NYTaxi.Zones \n",
    "                             WHERE zone = 'SoHo')\n",
    "```"
   ]
  },
  {
   "cell_type": "code",
   "execution_count": 4,
   "id": "674028ff-41cf-4d64-abad-acea3aa208bb",
   "metadata": {},
   "outputs": [
    {
     "name": "stdout",
     "output_type": "stream",
     "text": [
      "\n",
      "Execution time: 6.672s\n",
      "Global references: 89,443\n",
      "Bytes read: 23,055,752 kB (10,552,616 kB physical)\n"
     ]
    },
    {
     "data": {
      "text/html": [
       "<div>\n",
       "<style scoped>\n",
       "    .dataframe tbody tr th:only-of-type {\n",
       "        vertical-align: middle;\n",
       "    }\n",
       "\n",
       "    .dataframe tbody tr th {\n",
       "        vertical-align: top;\n",
       "    }\n",
       "\n",
       "    .dataframe thead th {\n",
       "        text-align: right;\n",
       "    }\n",
       "</style>\n",
       "<table border=\"1\" class=\"dataframe\">\n",
       "  <thead>\n",
       "    <tr style=\"text-align: right;\">\n",
       "      <th></th>\n",
       "      <th>Aggregate_1</th>\n",
       "    </tr>\n",
       "  </thead>\n",
       "  <tbody>\n",
       "    <tr>\n",
       "      <th>0</th>\n",
       "      <td>0.790574</td>\n",
       "    </tr>\n",
       "  </tbody>\n",
       "</table>\n",
       "</div>"
      ],
      "text/plain": [
       "   Aggregate_1\n",
       "0     0.790574"
      ]
     },
     "execution_count": 4,
     "metadata": {},
     "output_type": "execute_result"
    }
   ],
   "source": [
    "query(\"select avg(tip_amount) from NYTaxi where passenger_count > 1 and trip_distance < 1 and PULocationId = (select LocationId from NYTaxi.Zones where zone = 'SoHo')\")"
   ]
  },
  {
   "cell_type": "code",
   "execution_count": 5,
   "id": "fa1de4e3-4e64-4e4d-9fd4-8d69df743aaf",
   "metadata": {},
   "outputs": [
    {
     "name": "stdout",
     "output_type": "stream",
     "text": [
      "<plans>\n",
      " <plan>\n",
      " <sql>\n",
      "  select avg(tip_amount) from NYTaxi where passenger_count > 1 and trip_distance < 1 and PULocationId = (select LocationId from NYTaxi.Zones where zone = 'SoHo') /*#OPTIONS {\"xDBCIsoLevel\":\"0\"} */\n",
      " </sql>\n",
      " <cost value=\"\"/>\n",
      " Call module C.\n",
      " From each parallel process:\n",
      "     Accumulate the count([value]).\n",
      "     Accumulate the sum([value]).\n",
      " <module name=\"C\" top=\"1\">\n",
      " Partition extent bitmap SQLUser.NYTaxi.%%DDLBEIndex, and in parallel, for each partition, looping on bitmap chunks.\n",
      " For each bitmap chunk:\n",
      "     Read columnar index SQLUser.NYTaxi._CDM_PULocationID, using the given chunk number.\n",
      "     Apply vector operation = to produce a filter.\n",
      "     Read columnar index SQLUser.NYTaxi._CDM_tripdistance, using the given chunk number.\n",
      "     Apply vector and bitmap operations < and & to produce a filter.\n",
      "     Read columnar index SQLUser.NYTaxi._CDM_passengercount, using the given chunk number.\n",
      "     Apply vector and bitmap operations >, &, defined, &, defined, and & to produce a filter.\n",
      "     Read columnar index SQLUser.NYTaxi._CDM_tipamount, using the given chunk number.\n",
      "     Apply vector operations sum and count.\n",
      "     Accumulate the sum([value]).\n",
      "     Accumulate the count([value]).\n",
      " </module>\n",
      " <subquery name=\"N\" top=\"1\">\n",
      " Read master map NYTaxi.Zones.IDKEY, looping on ID.\n",
      " For each row:\n",
      "     Determine subquery result.\n",
      " </subquery>\n",
      " </plan>\n",
      "</plans>\n"
     ]
    }
   ],
   "source": [
    "print(plans[-1])"
   ]
  },
  {
   "cell_type": "markdown",
   "id": "582b2685",
   "metadata": {},
   "source": [
    "## Big Tippers\n",
    "\n",
    "```sql\n",
    " SELECT count(*) \n",
    "   FROM NYTaxi \n",
    "  WHERE tip_amount >= total_amount * .2\n",
    "```"
   ]
  },
  {
   "cell_type": "code",
   "execution_count": 6,
   "id": "b9a82ccd",
   "metadata": {},
   "outputs": [
    {
     "name": "stdout",
     "output_type": "stream",
     "text": [
      "\n",
      "Execution time: 6.419s\n",
      "Global references: 53,553\n",
      "Bytes read: 19,058,016 kB (9,271,616 kB physical)\n"
     ]
    },
    {
     "data": {
      "text/html": [
       "<div>\n",
       "<style scoped>\n",
       "    .dataframe tbody tr th:only-of-type {\n",
       "        vertical-align: middle;\n",
       "    }\n",
       "\n",
       "    .dataframe tbody tr th {\n",
       "        vertical-align: top;\n",
       "    }\n",
       "\n",
       "    .dataframe thead th {\n",
       "        text-align: right;\n",
       "    }\n",
       "</style>\n",
       "<table border=\"1\" class=\"dataframe\">\n",
       "  <thead>\n",
       "    <tr style=\"text-align: right;\">\n",
       "      <th></th>\n",
       "      <th>Aggregate_1</th>\n",
       "    </tr>\n",
       "  </thead>\n",
       "  <tbody>\n",
       "    <tr>\n",
       "      <th>0</th>\n",
       "      <td>78146772</td>\n",
       "    </tr>\n",
       "  </tbody>\n",
       "</table>\n",
       "</div>"
      ],
      "text/plain": [
       "   Aggregate_1\n",
       "0     78146772"
      ]
     },
     "execution_count": 6,
     "metadata": {},
     "output_type": "execute_result"
    }
   ],
   "source": [
    "query(\"select count(*) from NYTaxi where tip_amount >= total_amount * .2\")"
   ]
  },
  {
   "cell_type": "markdown",
   "id": "7515313b-507a-42b9-82a5-57dfa1ed61a9",
   "metadata": {},
   "source": [
    "## Tips by passenger count\n",
    "\n",
    "```sql\n",
    " SELECT passenger_count, \n",
    "        AVG(tip_amount / fare_amount) AS TipByFare, \n",
    "        COUNT(*) \n",
    "   FROM NYTaxi \n",
    "  WHERE trip_distance < 100 \n",
    "          AND trip_distance > 0 \n",
    "          AND fare_amount > 0 \n",
    "          AND passenger_count < 10 \n",
    "GROUP BY passenger_count\n",
    "```"
   ]
  },
  {
   "cell_type": "code",
   "execution_count": 7,
   "id": "25ce8326-3ac6-43b8-aea1-3c9f59e9eccd",
   "metadata": {},
   "outputs": [
    {
     "name": "stdout",
     "output_type": "stream",
     "text": [
      "\n",
      "Execution time: 3.639s\n",
      "Global references: 89,237\n",
      "Bytes read: 29,914,168 kB (80 kB physical)\n"
     ]
    },
    {
     "data": {
      "image/png": "[encoded data removed]",
      "text/plain": [
       "<Figure size 432x288 with 1 Axes>"
      ]
     },
     "metadata": {
      "needs_background": "light"
     },
     "output_type": "display_data"
    }
   ],
   "source": [
    "r = query(\"SELECT passenger_count, AVG(tip_amount / fare_amount) AS TipByFare, COUNT(*) FROM NYTaxi WHERE trip_distance < 100 and trip_distance > 0 and fare_amount > 0 and passenger_count < 10 GROUP BY passenger_count\")\n",
    "r.plot.bar(x=\"passenger_count\", y=\"TipByFare\");"
   ]
  }
 ],
 "metadata": {
  "kernelspec": {
   "display_name": "Python 3 (ipykernel)",
   "language": "python",
   "name": "python3"
  },
  "language_info": {
   "codemirror_mode": {
    "name": "ipython",
    "version": 3
   },
   "file_extension": ".py",
   "mimetype": "text/x-python",
   "name": "python",
   "nbconvert_exporter": "python",
   "pygments_lexer": "ipython3",
   "version": "3.9.12"
  }
 },
 "nbformat": 4,
 "nbformat_minor": 5
}
